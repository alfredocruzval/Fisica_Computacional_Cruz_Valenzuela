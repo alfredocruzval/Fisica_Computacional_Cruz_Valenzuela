{
 "cells": [
  {
   "cell_type": "markdown",
   "metadata": {},
   "source": [
    "Ejercicio 2"
   ]
  },
  {
   "cell_type": "code",
   "execution_count": 21,
   "metadata": {
    "collapsed": false
   },
   "outputs": [
    {
     "data": {
      "text/plain": [
       "derivada_numerica (generic function with 1 method)"
      ]
     },
     "execution_count": 21,
     "metadata": {},
     "output_type": "execute_result"
    }
   ],
   "source": [
    "using Calculus\n",
    "\n",
    "function derivada_numerica(f,x,h)\n",
    "    x0=x+h\n",
    "    Num=f(x0)-f(x)\n",
    "Der=Num/h\n",
    "    return Der\n",
    "end    "
   ]
  },
  {
   "cell_type": "code",
   "execution_count": 42,
   "metadata": {
    "collapsed": false
   },
   "outputs": [
    {
     "data": {
      "text/plain": [
       "0.0:1.0e-9:1.0"
      ]
     },
     "execution_count": 42,
     "metadata": {},
     "output_type": "execute_result"
    }
   ],
   "source": [
    "c=linspace(0,1,1000000001)"
   ]
  },
  {
   "cell_type": "code",
   "execution_count": 43,
   "metadata": {
    "collapsed": false
   },
   "outputs": [
    {
     "data": {
      "text/plain": [
       "0.524289818"
      ]
     },
     "execution_count": 43,
     "metadata": {},
     "output_type": "execute_result"
    }
   ],
   "source": [
    "R=rand(c)"
   ]
  },
  {
   "cell_type": "code",
   "execution_count": 44,
   "metadata": {
    "collapsed": false
   },
   "outputs": [
    {
     "data": {
      "text/plain": [
       "comp (generic function with 1 method)"
      ]
     },
     "execution_count": 44,
     "metadata": {},
     "output_type": "execute_result"
    }
   ],
   "source": [
    "function comp(c,f) #es la funcion para comparar los valores de mi funcion creada en el ejercicio 1 y la derivada real de la función\n",
    "    A=[] #voy a crear 4 conjuntos vacios para ir guardando mis resultados de cada paso con push!\n",
    "    B=[]\n",
    "    C=[]\n",
    "    D=[]\n",
    "    R=rand(c)#r me va a dar un número aleatorio de mi conjunto previamente definido, de 0 a 1 y será la r a entrar a mi función del ejericio 1\n",
    "    for i in 1:10 #voy a ir variando h y eso ira reduciendo a la menos 1 cada vez mi h.\n",
    "        h=1*(10.0^(-i)) \n",
    "        e=1/h #esto solo va a ser para cumplir el requisito de grafica contra 1/h\n",
    "    der=derivada_numerica(f,R,h) #aqui uso el valor que me da mi función\n",
    "    b=f'(r) #voy a calcular el valor real de la derivada de la función en el punto r\n",
    "        Er=(der-b)/b#voy a calcular el error\n",
    "        push!(D,Er) #Voy a rellenar estos conjuntos con los valores calculados\n",
    "        push!(A,der)\n",
    "        push!(B,b)\n",
    "        push!(C,e)\n",
    "    end\n",
    "scatter(C, A, color=\"red\") #voy a imprimir estos valores\n",
    "    scatter(C, B, color=\"green\")\n",
    "    scatter(C,D,color=\"gold\")\n",
    "end"
   ]
  },
  {
   "cell_type": "code",
   "execution_count": 50,
   "metadata": {
    "collapsed": false
   },
   "outputs": [
    {
     "data": {
      "image/png": "[encoded data removed]",
      "text/plain": [
       "PyPlot.Figure(PyObject <matplotlib.figure.Figure object at 0x7f9de1548c50>)"
      ]
     },
     "metadata": {},
     "output_type": "display_data"
    },
    {
     "data": {
      "text/plain": [
       "PyObject <matplotlib.collections.PathCollection object at 0x7f9de14d2050>"
      ]
     },
     "execution_count": 50,
     "metadata": {},
     "output_type": "execute_result"
    }
   ],
   "source": [
    "using PyPlot\n",
    "comp(c,sin)"
   ]
  },
  {
   "cell_type": "markdown",
   "metadata": {},
   "source": [
    "Ejercicio 4"
   ]
  },
  {
   "cell_type": "code",
   "execution_count": 56,
   "metadata": {
    "collapsed": false
   },
   "outputs": [
    {
     "data": {
      "text/plain": [
       "derivada_Simetrica (generic function with 1 method)"
      ]
     },
     "execution_count": 56,
     "metadata": {},
     "output_type": "execute_result"
    }
   ],
   "source": [
    "function derivada_Simetrica(f,x,h)\n",
    "    Num=f(x+h)-f(x-h)\n",
    "    DS=(Num/2h)\n",
    "    return DS\n",
    "end"
   ]
  },
  {
   "cell_type": "code",
   "execution_count": 57,
   "metadata": {
    "collapsed": false
   },
   "outputs": [
    {
     "data": {
      "text/plain": [
       "Ejercicio4 (generic function with 1 method)"
      ]
     },
     "execution_count": 57,
     "metadata": {},
     "output_type": "execute_result"
    }
   ],
   "source": [
    "function Ejercicio4(f,x)\n",
    "    A=[]\n",
    "    B=[]\n",
    "    C=[]\n",
    "    D=[]\n",
    "    for i in 1:10 #voy a ir variando h y eso ira reduciendo a la menos 1 cada vez mi h.\n",
    "        h=1*(10.0^(-i)) \n",
    "        push!(C,i) #Aqui voy a ir guardando el paso, para ver como se aproxima en cada paso\n",
    "    der=derivada_Simetrica(f,x,h) #aqui uso el valor que me da mi función\n",
    "    real=f'(x) #voy a calcular el valor real de la derivada de la función en el punto r\n",
    "        Er=der-real\n",
    "        push!(D,Er)\n",
    "        push!(B,der) #guardo el valor calculado por mmi funcion\n",
    "        push!(A,real) #guardo el valor real\n",
    "            end\n",
    "    scatter(C, A, color=\"red\") #voy a imprimir el paso vs el valor real\n",
    "    scatter(C, B, color=\"green\") #voy a imprimir el paso vs mi aproximacion\n",
    "    \n",
    "end"
   ]
  },
  {
   "cell_type": "code",
   "execution_count": 58,
   "metadata": {
    "collapsed": false
   },
   "outputs": [
    {
     "data": {
      "text/plain": [
       "0.53940225216976"
      ]
     },
     "execution_count": 58,
     "metadata": {},
     "output_type": "execute_result"
    }
   ],
   "source": [
    "derivada_Simetrica(sin,1,0.1)"
   ]
  },
  {
   "cell_type": "code",
   "execution_count": 59,
   "metadata": {
    "collapsed": false
   },
   "outputs": [
    {
     "data": {
      "text/plain": [
       "0.5402933008747335"
      ]
     },
     "execution_count": 59,
     "metadata": {},
     "output_type": "execute_result"
    }
   ],
   "source": [
    "derivada_Simetrica(sin,1,0.01)"
   ]
  },
  {
   "cell_type": "code",
   "execution_count": 60,
   "metadata": {
    "collapsed": false
   },
   "outputs": [
    {
     "data": {
      "text/plain": [
       "0.5403022158176896"
      ]
     },
     "execution_count": 60,
     "metadata": {},
     "output_type": "execute_result"
    }
   ],
   "source": [
    "derivada_Simetrica(sin,1,0.001)"
   ]
  },
  {
   "cell_type": "code",
   "execution_count": 61,
   "metadata": {
    "collapsed": false
   },
   "outputs": [
    {
     "data": {
      "text/plain": [
       "0.5403023049677103"
      ]
     },
     "execution_count": 61,
     "metadata": {},
     "output_type": "execute_result"
    }
   ],
   "source": [
    "derivada_Simetrica(sin,1,0.0001)"
   ]
  },
  {
   "cell_type": "code",
   "execution_count": 62,
   "metadata": {
    "collapsed": false
   },
   "outputs": [
    {
     "data": {
      "text/plain": [
       "0.53940225216976"
      ]
     },
     "execution_count": 62,
     "metadata": {},
     "output_type": "execute_result"
    }
   ],
   "source": [
    "derivada_Simetrica(sin,1,0000.1)"
   ]
  },
  {
   "cell_type": "code",
   "execution_count": 63,
   "metadata": {
    "collapsed": false
   },
   "outputs": [
    {
     "data": {
      "text/plain": [
       "0.5403023058958567"
      ]
     },
     "execution_count": 63,
     "metadata": {},
     "output_type": "execute_result"
    }
   ],
   "source": [
    "derivada_Simetrica(sin,1,0.000001)"
   ]
  },
  {
   "cell_type": "code",
   "execution_count": 64,
   "metadata": {
    "collapsed": false
   },
   "outputs": [
    {
     "data": {
      "text/plain": [
       "0.5403023058631036"
      ]
     },
     "execution_count": 64,
     "metadata": {},
     "output_type": "execute_result"
    }
   ],
   "source": [
    "g=sin'(1)"
   ]
  },
  {
   "cell_type": "code",
   "execution_count": 65,
   "metadata": {
    "collapsed": false
   },
   "outputs": [
    {
     "data": {
      "image/png": "[encoded data removed]",
      "text/plain": [
       "PyPlot.Figure(PyObject <matplotlib.figure.Figure object at 0x7f9de1486d10>)"
      ]
     },
     "metadata": {},
     "output_type": "display_data"
    },
    {
     "data": {
      "text/plain": [
       "PyObject <matplotlib.collections.PathCollection object at 0x7f9de1404a10>"
      ]
     },
     "execution_count": 65,
     "metadata": {},
     "output_type": "execute_result"
    }
   ],
   "source": [
    "Ejercicio4(sin,1)"
   ]
  },
  {
   "cell_type": "code",
   "execution_count": null,
   "metadata": {
    "collapsed": true
   },
   "outputs": [],
   "source": []
  }
 ],
 "metadata": {
  "kernelspec": {
   "display_name": "Julia 0.6.0",
   "language": "julia",
   "name": "julia-0.6"
  },
  "language_info": {
   "file_extension": ".jl",
   "mimetype": "application/julia",
   "name": "julia",
   "version": "0.6.0"
  }
 },
 "nbformat": 4,
 "nbformat_minor": 2
}
