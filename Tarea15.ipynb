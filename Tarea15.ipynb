{
 "cells": [
  {
   "cell_type": "markdown",
   "metadata": {},
   "source": [
    "\n",
    "\n",
    "Ejercicio 1: Crear la libreria herramientas dentro de su carpeta de tareas, en su repositorio. Dentro deberán poner los métodos de Newton que construyeron, los métodos de integración, Euler independiente de dimensión (implícito y explícito)y Runge-Kutta independiente de dimensión. Recuerden que las rutinas deben funcionar solo con sus argumentos, no debe haber variables globales, todo lo que necesite la función para trabajar debe ser un argumento o una variable definida internamente.\n",
    "\n",
    "* Las rutinas tienen que llevar su documentación.\n",
    "* Crearán el notebook de la tarea 15 (para el Martes 17) y en el llamarán a su libreria con el comando import.\n",
    "* Deberán demostrar que sus rutinas funcionan bien, no se necesitan tests extensos, basta con que muestren que si corren las rutinas.\n",
    "\n"
   ]
  },
  {
   "cell_type": "code",
   "execution_count": 26,
   "metadata": {},
   "outputs": [
    {
     "name": "stderr",
     "output_type": "stream",
     "text": [
      "WARNING: replacing module milibreria\n"
     ]
    },
    {
     "data": {
      "text/plain": [
       "milibreria"
      ]
     },
     "execution_count": 26,
     "metadata": {},
     "output_type": "execute_result"
    }
   ],
   "source": [
    "__precompile__()\n",
    "\n",
    "module milibreria\n",
    "\n",
    "\n",
    "export Newt\n",
    "function Newt(F,dF,x0,t) #En esta parte se calculan las raíces\n",
    "    \n",
    "    x=x0\n",
    "        for i in 1:100 #Ciclo for en el que trabajará el programa\n",
    "            x0=x0-(F(x0)/dF(x0)) #método de Newton\n",
    "        end\n",
    "    return x #Se obtiene la variable x\n",
    "end\n",
    "\n",
    "export Newt\n",
    "function Newt(F,dF,I)    \n",
    "    list1=zeros(length(I))                   \n",
    "    x = 0                                           \n",
    "    for i in 1:length(I)                    \n",
    "        x = I[i]                            \n",
    "        for n in 1:100                              \n",
    "            x = x-(F(x)/dF(x))                      \n",
    "            end                                     \n",
    "    list1[i]=x                                     \n",
    "    end\n",
    "    list1                                            \n",
    "end\n",
    "\n",
    "#Metodos de integracion\n",
    "export Riemann\n",
    "function Riemann(f,a,b,subintervalos)         \n",
    "    N = subintervalos                                 \n",
    "    A = a\n",
    "    B = b\n",
    "    datos = []                                      \n",
    "    suma = 0                                          \n",
    "    area_bajo_la_curva = 0\n",
    "    for i in 1:N                                       \n",
    "        b = ((B-A)/N)*(i) - A                          \n",
    "        a = A + ((B-A)/N)*(i-1)\n",
    "        area_bajo_la_curva = (b-a)*(f((b+a)/2))        \n",
    "        push!(datos,area_bajo_la_curva)              \n",
    "    end\n",
    "    suma = sum(datos,1:N)                             \n",
    "return suma\n",
    "end\n",
    "\n",
    "export Trapecio\n",
    "function Trapecio(f,a,b,subintervalos)            \n",
    "    N = subintervalos                                  \n",
    "    A = a\n",
    "    B = b\n",
    "    datos = []                                         \n",
    "    suma = 0                                            \n",
    "    area_bajo_la_curva = 0\n",
    "\n",
    "    for i in 1:N\n",
    "        b = ((B-A)/N)*(i) - A\n",
    "        a = A + ((B-A)/N)*(i-1)\n",
    "        area_bajo_la_curva = (b-a)*((f(b)+f(a))/2) \n",
    "        push!(datos,area_bajo_la_curva)\n",
    "    end\n",
    "    suma = sum(datos,1:N)\n",
    "return suma\n",
    "end\n",
    "\n",
    "\n",
    "export Simpson\n",
    "\n",
    "\n",
    "function Simpson(f,a,b,subintervalos)           \n",
    "    N = subintervalos                                  \n",
    "    A = a\n",
    "    B = b\n",
    "    datos = []                                         \n",
    "    suma = 0                                           \n",
    "    area_bajo_la_curva = 0\n",
    "\n",
    "    for i in 1:N\n",
    "        b = ((B-A)/N)*(i) - A\n",
    "        a = A + ((B-A)/N)*(i-1)\n",
    "        area_bajo_la_curva = (b-a)/6*((f(a)+4f((a+b)/2))+f(b))\n",
    "        push!(datos,area_bajo_la_curva)\n",
    "    end\n",
    "    suma = sum(datos,1:N)\n",
    "return suma\n",
    "end\n",
    "\n",
    "\n",
    "#Derivada\n",
    "\n",
    "export derivada_numerica\n",
    "function derivada_numerica(f,x,h)\n",
    "    x0=x+h\n",
    "    Num=f(x0)-f(x)\n",
    "Der=Num/h\n",
    "    return Der\n",
    "end\n",
    "\n",
    "\n",
    "export MetodoEuler\n",
    "function MetodoEuler(f,x0,t0,tf,h) \n",
    "    n=round((tf-t0)/h)+1                 \n",
    "    listt=linspace(t0,tf,n)             \n",
    "    listx=zeros(n)         \n",
    "    listx[1]=x0             \n",
    "    for i in 1:length(listx)-1   \n",
    "        listx[i+1]=listx[i]+h*f(listx[i],listt[i])\n",
    "    end\n",
    "    return listt, listx\n",
    "end\n",
    "\n",
    "\n",
    "\n",
    "export EulerImplicito\n",
    "function EulerImplicito(f,x0,t0,tf,h)\n",
    "  \n",
    "       list1=t0:h:tf\n",
    "    list2=[x0]\n",
    "    for i in 1:length(list1)-1\n",
    "        \n",
    "    g(x,s)=x-h*f(x,list1[i])-x0 #Cálculo raíz\n",
    "    x0=x0+h*f(Newt(g,Float64(x0),list1[i]),list1[i+1])\n",
    "       \n",
    "        push!(list2,x0)\n",
    "    end\n",
    "    return list1,list2\n",
    "end\n",
    "\n",
    "export EulerMedio\n",
    "function EulerMedio(f,x0,t0,tf,h) #Método Euler Medio\n",
    "    list1=t0:h:tf\n",
    "    list2=[x0]\n",
    "    for i in 1:length(list1)-1\n",
    "        \n",
    "    x0=x0+h*f(x0+(h*0.5)f(x0,list1[i]),list1[i]+h/2)\n",
    "        \n",
    "        push!(list2,x0)\n",
    "    end\n",
    "    return list1,list2\n",
    "end\n",
    "\n",
    "\n",
    "export RK\n",
    "function RK(f,x0,t0,tf,h) #Runga Kutta simple\n",
    "    list1=t0:h:tf\n",
    "    list2=[x0]\n",
    "    for i in 1:length(list1)-1\n",
    "        \n",
    "    k1=f(x0,list1[i])\n",
    "    k2=f(x0+h*k1,list1[i]+h)   \n",
    "    x0=x0+(h/2)*(k1+k2)\n",
    "        \n",
    "        push!(list2,x0)\n",
    "    end\n",
    "    return list1,list2\n",
    "end\n",
    "\n",
    "\n",
    "export RK4\n",
    "function RK4(f,x0,t0,tf,h)\n",
    "    list1=t0:h:tf\n",
    "    list2=[x0]\n",
    "    x=x0\n",
    "    for i in 1:length(list1)-1\n",
    "        \n",
    "    k1=f(x,list1[i])#Se agregan las dos operaciones para cuarto orden\n",
    "    k2=f(x+(h/2)*k1,list1[i]+h/2)  \n",
    "    k3=f(x+(h/2)*k2,list1[i]+h/2) \n",
    "    k4=f(x+h*k3,list1[i]+h)\n",
    "        \n",
    "    x=x+(h/6)*(k1+2k2+2k3+k4)\n",
    "        \n",
    "        push!(list2,x)\n",
    "    end\n",
    "    return list1,list2\n",
    "end\n",
    "end"
   ]
  },
  {
   "cell_type": "code",
   "execution_count": 3,
   "metadata": {},
   "outputs": [],
   "source": [
    "import milibreria"
   ]
  },
  {
   "cell_type": "code",
   "execution_count": 4,
   "metadata": {},
   "outputs": [
    {
     "data": {
      "text/plain": [
       "45"
      ]
     },
     "execution_count": 4,
     "metadata": {},
     "output_type": "execute_result"
    }
   ],
   "source": [
    "milibreria.Newt(x->x^3-x^2-x-1,x->3x^2-2x-1,45,1)"
   ]
  },
  {
   "cell_type": "code",
   "execution_count": 27,
   "metadata": {},
   "outputs": [
    {
     "data": {
      "text/plain": [
       "1-element Array{Float64,1}:\n",
       " 0.25"
      ]
     },
     "execution_count": 27,
     "metadata": {},
     "output_type": "execute_result"
    }
   ],
   "source": [
    "milibreria.Riemann(x->x^3,0,1,1000)"
   ]
  },
  {
   "cell_type": "code",
   "execution_count": 25,
   "metadata": {},
   "outputs": [
    {
     "data": {
      "text/plain": [
       "1-element Array{Float64,1}:\n",
       " 0.25"
      ]
     },
     "execution_count": 25,
     "metadata": {},
     "output_type": "execute_result"
    }
   ],
   "source": [
    "milibreria.Trapecio(x->x^3,0,1,1000)"
   ]
  },
  {
   "cell_type": "code",
   "execution_count": 23,
   "metadata": {},
   "outputs": [
    {
     "data": {
      "text/plain": [
       "1-element Array{Float64,1}:\n",
       " 0.333333"
      ]
     },
     "execution_count": 23,
     "metadata": {},
     "output_type": "execute_result"
    }
   ],
   "source": [
    "milibreria.Simpson(x->x^2,0,1,1000)"
   ]
  },
  {
   "cell_type": "code",
   "execution_count": 12,
   "metadata": {},
   "outputs": [
    {
     "data": {
      "text/plain": [
       "102.0"
      ]
     },
     "execution_count": 12,
     "metadata": {},
     "output_type": "execute_result"
    }
   ],
   "source": [
    "milibreria.derivada_numerica(x->x^2,1,100)"
   ]
  },
  {
   "cell_type": "code",
   "execution_count": 21,
   "metadata": {},
   "outputs": [
    {
     "ename": "LoadError",
     "evalue": "InexactError()",
     "output_type": "error",
     "traceback": [
      "InexactError()",
      "",
      " in push!(::Array{Int64,1}, ::Float64) at ./array.jl:479",
      " in MetodoEuler(::##37#38, ::Int64, ::Int64, ::Int64, ::Float64) at ./In[2]:83",
      " in include_string(::String, ::String) at ./loading.jl:441"
     ]
    }
   ],
   "source": [
    "milibreria.MetodoEuler((x,t)->-(2.5)*x,1,0,8,0.5)"
   ]
  },
  {
   "cell_type": "code",
   "execution_count": 16,
   "metadata": {},
   "outputs": [
    {
     "ename": "LoadError",
     "evalue": "InexactError()",
     "output_type": "error",
     "traceback": [
      "InexactError()",
      "",
      " in push!(::Array{Int64,1}, ::Float64) at ./array.jl:479",
      " in EulerMedio(::##27#28, ::Int64, ::Int64, ::Int64, ::Float64) at ./In[2]:113",
      " in include_string(::String, ::String) at ./loading.jl:441"
     ]
    }
   ],
   "source": [
    "milibreria.EulerMedio((x,t)->-(2.5)*x,1,0,8,0.5)"
   ]
  },
  {
   "cell_type": "code",
   "execution_count": 17,
   "metadata": {},
   "outputs": [
    {
     "ename": "LoadError",
     "evalue": "InexactError()",
     "output_type": "error",
     "traceback": [
      "InexactError()",
      "",
      " in push!(::Array{Int64,1}, ::Float64) at ./array.jl:479",
      " in RK(::##29#30, ::Int64, ::Int64, ::Int64, ::Float64) at ./In[2]:129",
      " in include_string(::String, ::String) at ./loading.jl:441"
     ]
    }
   ],
   "source": [
    "milibreria.RK((x,t)->-(2.5)*x,1,0,8,0.5)"
   ]
  },
  {
   "cell_type": "code",
   "execution_count": 19,
   "metadata": {},
   "outputs": [
    {
     "ename": "LoadError",
     "evalue": "MethodError: no method matching RK4(::##33#34, ::FloatRange{Float64}, ::Array{Int64,1})\u001b[0m\nClosest candidates are:\n  RK4(::Any, ::Any, ::Any, \u001b[1m\u001b[31m::Any\u001b[0m, \u001b[1m\u001b[31m::Any\u001b[0m) at In[2]:137\u001b[0m",
     "output_type": "error",
     "traceback": [
      "MethodError: no method matching RK4(::##33#34, ::FloatRange{Float64}, ::Array{Int64,1})\u001b[0m\nClosest candidates are:\n  RK4(::Any, ::Any, ::Any, \u001b[1m\u001b[31m::Any\u001b[0m, \u001b[1m\u001b[31m::Any\u001b[0m) at In[2]:137\u001b[0m",
      "",
      " in include_string(::String, ::String) at ./loading.jl:441"
     ]
    }
   ],
   "source": [
    "milibreria.RK4((x,t)->[x[2], -1.0*x[1]-x[2]],0:0.01:10,[1,0])"
   ]
  },
  {
   "cell_type": "code",
   "execution_count": null,
   "metadata": {},
   "outputs": [],
   "source": []
  }
 ],
 "metadata": {
  "kernelspec": {
   "display_name": "Julia 0.5.2",
   "language": "julia",
   "name": "julia-0.5"
  },
  "language_info": {
   "file_extension": ".jl",
   "mimetype": "application/julia",
   "name": "julia",
   "version": "0.5.2"
  }
 },
 "nbformat": 4,
 "nbformat_minor": 2
}
