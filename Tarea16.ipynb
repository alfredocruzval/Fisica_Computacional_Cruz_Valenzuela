{
 "cells": [
  {
   "cell_type": "markdown",
   "metadata": {},
   "source": [
    "Demostrar que si $A=wBw^{-1}$, es decir $A$ y $B$ similares, que $f(A)=wf(B)w^{-1}$, donde $f$ es una función analítica. Entregar en físico en clase."
   ]
  },
  {
   "cell_type": "markdown",
   "metadata": {},
   "source": [
    "Nota: La subí a esta plataforma porque se supone que debo entregarte a ti la tarea pero pues me comentaron que como no te la di en físico, tenía que escribirlo en markdown.\n"
   ]
  },
  {
   "cell_type": "markdown",
   "metadata": {},
   "source": [
    "Sea una matriz B que tenga la sigeuinte estructura $$ B = diag(\\lambda_{1},...,\\lambda_{k})$$\n",
    "dicha matriz tendrá sus elementos de la siguiente forma $$  B^{n} = diag(\\lambda^{n}_{1},...,\\lambda^{n}_{k})$$\n",
    "\n",
    "Sabemos que una función aplicada a alguna matriz, en este caso B se se puede escribir de la siguiente forma $$f(B)= diag(\\sum_{n} C_{n}\\lambda^{n}_{1},..., C_{n}\\lambda^{n}_{k}) $$ \n",
    "\n",
    "Se puede observar la combinacíon lineal que existe, de tal forma que los escalares de naturaleza Cn son la operación aplicada a los elementos $\\lambda_{k}$ de la matriz\n",
    "\n",
    "$$f(B) = diag(f(\\lambda_{1}),...,f(\\lambda_{k}))$$\n",
    "\n",
    "Por otro lado, sea $$A = WBW^{-1}$$ Al aplicarle la función f a A y considerando que la variable W es la matriz de eigenvectores de la matriz A. Entonces\n",
    "\n",
    " $$f(A) = f(WBW^{-1})$$ A su vez $$f(A) = f(WBW^{-1}) =W(diag(\\sum_{n} C_{n}\\lambda^{n}_{1},..., C_{n}\\lambda^{n}_{k}))W^{-1}$$\n",
    " \n",
    " Y esto es igual a\n",
    " \n",
    " $$W(diag(f(\\lambda_{1}),...,f(\\lambda_{k})))W^{-1}= Wf(B)W^{-1} $$ por lo tanto si se cumple la igualdad\n",
    " "
   ]
  },
  {
   "cell_type": "code",
   "execution_count": null,
   "metadata": {},
   "outputs": [],
   "source": []
  }
 ],
 "metadata": {
  "kernelspec": {
   "display_name": "Julia 0.5.2",
   "language": "julia",
   "name": "julia-0.5"
  },
  "language_info": {
   "file_extension": ".jl",
   "mimetype": "application/julia",
   "name": "julia",
   "version": "0.5.2"
  }
 },
 "nbformat": 4,
 "nbformat_minor": 2
}
