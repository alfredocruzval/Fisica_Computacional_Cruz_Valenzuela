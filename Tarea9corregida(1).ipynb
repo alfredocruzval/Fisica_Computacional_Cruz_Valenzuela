{
 "cells": [
  {
   "cell_type": "markdown",
   "metadata": {},
   "source": [
    "Ejercicio 2. \n",
    "\n",
    "Utiliza tu función derivadaNumerica para calcular la derivada de la función $\\cos$ en un punto $x_0\\in[0,1)$. Compara tu resultado con el que indica el cálculo exacto. Utiliza valores de $h$ cada vez más pequeños, grafica el comportamiento de la derivada y muestra como converge al valor exacto conforme tomamos $h$'s cada vez más pequeño. Para ello pueden graficar el resultado de la derivada numérica contra $1/h$. Observa el resultado de la aproximación y comenta. ¿El error es del orden de $h$?, para ver esto grafica el error relativo a $f'(x_0)$: $$\\epsilon=\\left|\\frac{\\Delta f(x_0,h)/h-f'(x_0)}{f'(x_0)}\\right|,$$ respecto a $h$."
   ]
  },
  {
   "cell_type": "code",
   "execution_count": 6,
   "metadata": {},
   "outputs": [
    {
     "data": {
      "text/plain": [
       "derivadaNumerica (generic function with 1 method)"
      ]
     },
     "execution_count": 6,
     "metadata": {},
     "output_type": "execute_result"
    }
   ],
   "source": [
    "function derivadaNumerica(f,x0,h) #función, punto inicial, incremento \n",
    "    derivada=(f(x0+h)-f(x0))/h\n",
    "    return derivada\n",
    "    end"
   ]
  },
  {
   "cell_type": "code",
   "execution_count": 2,
   "metadata": {},
   "outputs": [
    {
     "data": {
      "text/plain": [
       "-0.5646424733950354"
      ]
     },
     "execution_count": 2,
     "metadata": {},
     "output_type": "execute_result"
    }
   ],
   "source": [
    "-sin(0.6)"
   ]
  },
  {
   "cell_type": "code",
   "execution_count": 4,
   "metadata": {},
   "outputs": [
    {
     "data": {
      "text/plain": [
       "f (generic function with 1 method)"
      ]
     },
     "execution_count": 4,
     "metadata": {},
     "output_type": "execute_result"
    }
   ],
   "source": [
    "function f(x)\n",
    "    cos(x)\n",
    "    end"
   ]
  },
  {
   "cell_type": "code",
   "execution_count": 4,
   "metadata": {},
   "outputs": [
    {
     "data": {
      "text/plain": [
       "-0.6049342762518983"
      ]
     },
     "execution_count": 4,
     "metadata": {},
     "output_type": "execute_result"
    }
   ],
   "source": [
    "derivadaNumerica(f,0.6,0.1)"
   ]
  },
  {
   "cell_type": "code",
   "execution_count": 5,
   "metadata": {},
   "outputs": [
    {
     "data": {
      "text/plain": [
       "-0.5687597064198857"
      ]
     },
     "execution_count": 5,
     "metadata": {},
     "output_type": "execute_result"
    }
   ],
   "source": [
    "derivadaNumerica(f,0.6,0.01)"
   ]
  },
  {
   "cell_type": "code",
   "execution_count": 6,
   "metadata": {},
   "outputs": [
    {
     "data": {
      "text/plain": [
       "-0.5646837392347948"
      ]
     },
     "execution_count": 6,
     "metadata": {},
     "output_type": "execute_result"
    }
   ],
   "source": [
    "derivadaNumerica(f,0.6,0.0001)"
   ]
  },
  {
   "cell_type": "code",
   "execution_count": 1,
   "metadata": {},
   "outputs": [
    {
     "data": {
      "text/plain": [
       "convergencia (generic function with 1 method)"
      ]
     },
     "execution_count": 1,
     "metadata": {},
     "output_type": "execute_result"
    }
   ],
   "source": [
    "function convergencia(f,x,h)\n",
    "    list1 = [] #se almacenarás los valores de la derivada\n",
    "    r = 0.0 \n",
    "    for i in 1:length(h)\n",
    "        r = derivadaNumerica(f,x,h[i])\n",
    "        push!(list1,r)\n",
    "    end\n",
    "    xlabel(\"1/h\")\n",
    "    ylabel(\"Valor de la derivada numerica\")\n",
    "    title(\"Convergencia al valor exacto de la derivada\")\n",
    "    plot(fill(-sin(0.6),length(h))) #La asintota del valor exacto\n",
    "    plot(1/h,list1,\"r\")\n",
    "    show()\n",
    "end"
   ]
  },
  {
   "cell_type": "code",
   "execution_count": null,
   "metadata": {},
   "outputs": [],
   "source": [
    "using PyPlot\n",
    "converger(f,0.6,linspace(1,0.001,1000))"
   ]
  },
  {
   "cell_type": "markdown",
   "metadata": {},
   "source": [
    "Se puede ver en la gráfica anterior que mientras sea más grande el valor de $\\frac{1}{h}$, entonces la derivada va a tender a nuestro valor obtenido en el test de arriba -0.6\n",
    "\n"
   ]
  },
  {
   "cell_type": "code",
   "execution_count": 2,
   "metadata": {},
   "outputs": [
    {
     "data": {
      "text/plain": [
       "ErrorR (generic function with 1 method)"
      ]
     },
     "execution_count": 2,
     "metadata": {},
     "output_type": "execute_result"
    }
   ],
   "source": [
    "function ErrorR(f,x,h,Der)\n",
    "    E=((derivadaNumerica(f,x,h)/Der)-1)\n",
    "    return E\n",
    "    end"
   ]
  },
  {
   "cell_type": "code",
   "execution_count": 7,
   "metadata": {},
   "outputs": [
    {
     "data": {
      "text/plain": [
       "0.0007306812460319279"
      ]
     },
     "execution_count": 7,
     "metadata": {},
     "output_type": "execute_result"
    }
   ],
   "source": [
    "ErrorR(f,0.6,0.001,-sin(0.6))"
   ]
  },
  {
   "cell_type": "code",
   "execution_count": 8,
   "metadata": {},
   "outputs": [
    {
     "data": {
      "text/plain": [
       "ERelativo (generic function with 1 method)"
      ]
     },
     "execution_count": 8,
     "metadata": {},
     "output_type": "execute_result"
    }
   ],
   "source": [
    "function ERelativo(f,x,h,Der)\n",
    "    list2=[] #en esta lista se van a guardar los errores \n",
    "    Error=0.0\n",
    "    for i in 1:length(h) #depende del número de h, que solicitemos\n",
    "        Error=ERelativo(f,x,h[i],Der)\n",
    "        push!(list2,Error) \n",
    "    end\n",
    "    xlabel(\"h\"),ylabel(\"Error relativo\"),title(\"\")\n",
    "    plot(h,list2)\n",
    "    show()\n",
    "    end"
   ]
  },
  {
   "cell_type": "code",
   "execution_count": null,
   "metadata": {},
   "outputs": [],
   "source": [
    "ERelativo(f,0.6,linspace(1,0.001,1000),sin(-0.6))"
   ]
  },
  {
   "cell_type": "markdown",
   "metadata": {},
   "source": [
    "El ejercicio 3 esta en el archivo de tarea9 escrito"
   ]
  },
  {
   "cell_type": "markdown",
   "metadata": {},
   "source": [
    "Ejercicio 4.\n",
    "\n",
    "Implementa la derivada simétrica en Julia como derivada_Simetrica y repite la comparativa que realizaste en el ejercicio 2."
   ]
  },
  {
   "cell_type": "code",
   "execution_count": 11,
   "metadata": {},
   "outputs": [
    {
     "data": {
      "text/plain": [
       "derivada_Simetrica (generic function with 1 method)"
      ]
     },
     "execution_count": 11,
     "metadata": {},
     "output_type": "execute_result"
    }
   ],
   "source": [
    "function derivada_Simetrica(f,x,h)\n",
    "    Simetrica=((f(x+h)-f(x-h))/2h) \n",
    "    return Simetrica\n",
    "    end"
   ]
  },
  {
   "cell_type": "code",
   "execution_count": 23,
   "metadata": {},
   "outputs": [
    {
     "data": {
      "text/plain": [
       "-0.7833267790730014"
      ]
     },
     "execution_count": 23,
     "metadata": {},
     "output_type": "execute_result"
    }
   ],
   "source": [
    "derivada_Simetrica(f,0.9,0.001)"
   ]
  },
  {
   "cell_type": "code",
   "execution_count": 26,
   "metadata": {},
   "outputs": [
    {
     "data": {
      "text/plain": [
       "grafica_convergencia_simetrica (generic function with 1 method)"
      ]
     },
     "execution_count": 26,
     "metadata": {},
     "output_type": "execute_result"
    }
   ],
   "source": [
    "function grafica_convergencia_simetrica(f,x,h)\n",
    "    list3 = collect(h)\n",
    "    listaderivada_simetrica = []\n",
    "    r = 0.0 \n",
    "    for i in 1:length(list3)\n",
    "        r = listaderivada_simetrica(f,x,list3[i])\n",
    "        push!(listaderivada_simetrica,r)\n",
    "    end\n",
    "    xlabel(\"h\")\n",
    "    title(\"Convergencia al valor exacto de la derivada\")\n",
    "    plot(h,listaderivada_simetrica, label= \"Derivada simetrica\")\n",
    "    plot(h,fill(-0.19866933079506122,length(list3)),label= \"Valor exacto de la derivada\")\n",
    "    show()\n",
    "    legend()\n",
    "end"
   ]
  },
  {
   "cell_type": "code",
   "execution_count": 25,
   "metadata": {},
   "outputs": [
    {
     "data": {
      "text/plain": [
       "errorRelativo_S (generic function with 1 method)"
      ]
     },
     "execution_count": 25,
     "metadata": {},
     "output_type": "execute_result"
    }
   ],
   "source": [
    "function errorRelativo_S(f,x,h,der_real)\n",
    "    error = abs((derivada_Simetrica(f,x,h)-der_real)/der_real)  #Aqui se hace el procedimiento para obtener el error.\n",
    "    return error\n",
    "end"
   ]
  },
  {
   "cell_type": "code",
   "execution_count": 27,
   "metadata": {},
   "outputs": [
    {
     "data": {
      "text/plain": [
       "grafica_error_relativo_simetrica (generic function with 1 method)"
      ]
     },
     "execution_count": 27,
     "metadata": {},
     "output_type": "execute_result"
    }
   ],
   "source": [
    "function grafica_error_relativo_simetrica(f,x,h,der_real)\n",
    "    lista_h = collect(h)\n",
    "    lista_error = []\n",
    "    O = 0.0 \n",
    "    for i in 1:length(lista_h)\n",
    "        O = error_relativo_simetrica(f,x,lista_h[i],der_real)\n",
    "        push!(lista_error,O)\n",
    "    end\n",
    "    title(\"Error absoluto relativo de la derivada en función de h\")\n",
    "    xlabel(\"h\")\n",
    "    plot(lista_h,lista_error, label = \"Error\")\n",
    "    legend()\n",
    "    show()\n",
    "end"
   ]
  },
  {
   "cell_type": "code",
   "execution_count": null,
   "metadata": {},
   "outputs": [],
   "source": [
    "grafica_convergencia_simetrica(f,.2,linspace(0,1,100))            #Para que nos de la grafica.\n",
    "grafica_error_relativo_simetrica(f,.2,linspace(0,1,100),-0.19866933079506122)"
   ]
  },
  {
   "cell_type": "markdown",
   "metadata": {},
   "source": [
    "Analizando la gráfica anterior se aprecia que la diferencia de la aproximacion derivada_numerica, conforme h es más pequeña el error decae más rapido en el metodo derivada_simetrica.\n",
    "\n",
    "Por otro lado la convergencia de la derivada vemos que esta tambien converge muchisimo más rápido que la del ejercicio 2 de este notebook."
   ]
  }
 ],
 "metadata": {
  "kernelspec": {
   "display_name": "Julia 0.5.2",
   "language": "julia",
   "name": "julia-0.5"
  },
  "language_info": {
   "file_extension": ".jl",
   "mimetype": "application/julia",
   "name": "julia",
   "version": "0.5.2"
  }
 },
 "nbformat": 4,
 "nbformat_minor": 2
}
