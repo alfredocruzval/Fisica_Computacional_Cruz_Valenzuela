{
 "cells": [
  {
   "cell_type": "markdown",
   "metadata": {},
   "source": [
    "En este documento pondré los ejercicios que tiene que ver con alg[un desarrollo escrito\n"
   ]
  },
  {
   "cell_type": "markdown",
   "metadata": {},
   "source": [
    "## Ejercicio 3"
   ]
  },
  {
   "cell_type": "markdown",
   "metadata": {},
   "source": [
    "Sabemos que las series de Taylor son las siguientes:\n",
    "\n",
    "Sea (1)\n",
    "\n",
    "### $$f(x+h)=f(x)+f´(x)h+\\frac{1}{2}f´´(x)h^2+\\frac{1}{6}f´´(x)h^3+\\mathcal{O}(h^4)$$ ###\n",
    "\n",
    "Sea (2)\n",
    "\n",
    "### $$f(x-h)=2hf´(x)-f´(x)h-\\frac{1}{2}f´´(x)h^2-\\frac{1}{6}f´´(x)h^3+\\mathcal{O}(h^4)$$ ###\n",
    "\n",
    "Sumando (1) y (2) se obtiene la sig. expresión:\n",
    "\n",
    "### (1)-(2)=$$ 2hf´(x)+\\frac{1}{3}f´(x)h^3+\\mathcal{O}(h^5)=2hf´(x)+\\mathcal{O}(h^3)$$###\n",
    "\n",
    "Dividiendo entre 2h se obtiene:\n",
    "\n",
    "### $$\\frac{f(x+h)-f(x-h)}{2h}-f´(x)=\\mathcal{O}(h^2)$$###\n",
    "\n",
    "Por lo tanto\n",
    "\n",
    "###$$f´(x)=\\frac{f(x+h)-f(x-h)}{2h}$$###"
   ]
  },
  {
   "cell_type": "markdown",
   "metadata": {},
   "source": [
    "## Ejercicio 5##"
   ]
  },
  {
   "cell_type": "markdown",
   "metadata": {},
   "source": [
    "Ahora se demostrará lo que se pide\n",
    "\n",
    "$$\\Delta_h(\\alpha f+g)=\\sum_{n=0}^{\\infty}\\frac{h^n}{n!}\\frac{d^n(\\alpha f+g)}{dx^n}$$\n",
    "\n",
    "Entonces:\n",
    "\n",
    "$$=\\sum_{n=1}^{\\infty}\\frac{h^n}{n!}(\\alpha\\frac{d^nf}{dx^2}+\\frac{d^ng}{dx^2})$$\n",
    "\n",
    "al distribuir se obtiene\n",
    "\n",
    "$$=\\sum_{n=1}^{\\infty}((\\alpha\\frac{h^n}{n!}\\frac{d^nf}{dx^2}+\\frac{h^n}{n!}\\frac{d^ng}{dx^2})$$\n",
    "\n",
    "Finalmente el operador queda como\n",
    "\n",
    "$$=\\alpha\\Delta_h(f)+\\Delta_h(g)$$\n"
   ]
  },
  {
   "cell_type": "markdown",
   "metadata": {},
   "source": [
    "## Ejercicio 6##"
   ]
  },
  {
   "cell_type": "markdown",
   "metadata": {},
   "source": [
    "Ya sabemos que la serie de Taylor para este caso que es la función exponencial se ve de la sig. forma\n",
    "\n",
    "$$ e^x=\\sum_{n=0}^{\\infty}\\frac{x^n}{n!}$$\n",
    "\n",
    "Aplicando lo ue ya se sabe que se demostró. Entonces:\n",
    "\n",
    "$$ \\Delta_h=e^h\\frac{d}{dx}-1$$\n",
    "\n",
    "Entonces se llega\n",
    "\n",
    "$$\\frac{1}{h}log(\\Delta_h+1)=\\frac{d}{dx}$$\n",
    "\n",
    "a su vez\n",
    "\n",
    "$$log(1+x)=\\frac{1}{1+x}|_{\\substack{ x=0 }}x-\\frac{x^2}{2}$$\n",
    "\n",
    "Para concluir se llega a \n",
    "\n",
    "$$\\frac{d}{dx}=\\frac{1}{h}(\\Delta_h-\\Delta^2_h\\frac{1}{2}+....)$$"
   ]
  },
  {
   "cell_type": "code",
   "execution_count": null,
   "metadata": {
    "collapsed": true
   },
   "outputs": [],
   "source": []
  }
 ],
 "metadata": {
  "kernelspec": {
   "display_name": "Julia 0.6.0",
   "language": "julia",
   "name": "julia-0.6"
  },
  "language_info": {
   "file_extension": ".jl",
   "mimetype": "application/julia",
   "name": "julia",
   "version": "0.6.0"
  }
 },
 "nbformat": 4,
 "nbformat_minor": 2
}
