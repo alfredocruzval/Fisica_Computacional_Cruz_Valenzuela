{
 "cells": [
  {
   "cell_type": "markdown",
   "metadata": {},
   "source": [
    "\n",
    "\n",
    "Ejercicio 1: ¿Como podemos evaluar funciones en matrices? Hint: ¿que operaciones sabemos que estan bien definidas sobre matrices?\n",
    "\n",
    "Para la suma:\n",
    "\n",
    "Se tiene que teniendo dos matrices de la misma dimensión, entonces $$A=(a_{ij})$$ $$B=(b_{ij})$$\n",
    "\n",
    "Por lo tanto sumando ambas, la matriz suma quedaría, como: $$A+B=(a_{ij}+b_{ij})$$\n",
    "\n",
    "Propiedades de la suma:\n",
    "\n",
    "1) \n",
    "\n",
    "La suma de dos matrices de orden m x n es otra matriz de dimensión m x n.\n",
    "\n",
    "2) Asociativa:\n",
    "\n",
    "$$ A + (B + C) = (A + B) + C $$\n",
    "\n",
    "3) Neutro aditivo:\n",
    "\n",
    "$$ A + 0 = A $$\n",
    "\n",
    "Sea 0 la matriz nula de misma dimensión que A.\n",
    "\n",
    "4) Signo opuesto:\n",
    "\n",
    "$$ A + (−A) = O $$\n",
    "\n",
    "La matriz opuesta es aquella que sus elementos tienen signo contrario.\n",
    "\n",
    "5) Conmutativa:\n",
    "\n",
    "$$ A + B = B + A $$\n",
    "\n",
    "\n",
    "Multiplicación:\n",
    "\n",
    "Sea una matriz $A=(aij)$ y un número real c. El producto de un número real por una matriz:\n",
    "\n",
    "$$ kA=(k a_{ij}) $$\n",
    "\n",
    "Producto de matrices:\n",
    "\n",
    "Dos matrices $A$ y $B$ son multiplicables si el número de columnas de $A$ coincide con el número de filas de $B$.\n",
    "\n",
    "El elemento $c_{ij}$ de la matriz producto se obtiene multiplicando cada elemento de la fila $i$ de la matriz $A$ por cada elemento de la columna $j$ de la matriz $B$ y al final sumarlos.\n",
    "\n",
    "Propiedades del producto de matrices:\n",
    "\n",
    "1)Asociativa:\n",
    "\n",
    "$$ A (B C) = (A B) C $$\n",
    "\n",
    "2)Elemento neutro:\n",
    "\n",
    "$$ A I = A $$\n",
    "\n",
    "Donde I es la matriz identidad del mismo orden que A.\n",
    "\n",
    "3)No es Conmutativa: No se obtienen el mismo resultado\n",
    "\n",
    "$$ A B ≠ B A $$\n",
    "\n",
    "4)Distributiva del producto con apoyo de la adición:\n",
    "\n",
    "$$ A (B + C) = A B + A C $$\n"
   ]
  },
  {
   "cell_type": "markdown",
   "metadata": {},
   "source": [
    "Ejercicio 2: ¿Como se define una matriz simétrica?\n",
    "\n",
    "Una matriz simetrica se define como: $$ A = A^t $$\n",
    "\n",
    "\n",
    "Una matriz es simétrica si es una matriz cuadrada, la cual tiene la característica de ser igual a su traspuesta. "
   ]
  },
  {
   "cell_type": "markdown",
   "metadata": {},
   "source": [
    "Ejercicio 3: ¿Como puede construir una matriz simétrica a partir de cualquier matriz cuadrada?\n",
    "\n",
    "Para poder hacer una matriz simetrica a partir de cualquier cuadrada basta con diagonalizarla. Entonces recordemos nuestro curso de Algebra lineal:\n",
    "\n",
    "Definición:\n",
    "\n",
    "una matriz cuadrada \"A\" se dice que es diagonalizable si es semejante a una matriz diagonal. Es decir, si mediante un cambio de base puede reducirse a una forma diagonal.\n",
    "\n",
    "Condiciones que debe cumplir:\n",
    "\n",
    "Es diagonalizable si y sólo si tiene $n$ vectores propios linealmente independientes asociados a valores propios reales.\n",
    "\n"
   ]
  },
  {
   "cell_type": "markdown",
   "metadata": {},
   "source": [
    "Ejercicio 4: Construya el propagador $e^{A t}$ para cada tiempo sobre una malla y uselo para propagar un estado inicial $\\vec x_0$ cualquiera. Utilice: $$A=\\left(\\begin{array}{cc} -1 ; 1\\\\ -1 ; -1 \\end{array} \\right).$$\n",
    "\n",
    "    Grafique la trayectoria en el espacio de fase.\n",
    "    Recuerde que $\\vec x(t) = e^{A t}\\vec x_0$, y necesitamos graficar la trayectoria $\\vec x(t)$ en el espacio de fase.\n",
    "\n",
    "Nota 1: El operador * funciona para multiplicar matrices.\n",
    "\n",
    "Note 2: Observen que la matriz $A$ no es simétrica, aqui no se cumple que $w^T=w^{-1}$.\n"
   ]
  },
  {
   "cell_type": "code",
   "execution_count": 36,
   "metadata": {},
   "outputs": [],
   "source": [
    "using PyPlot"
   ]
  },
  {
   "cell_type": "code",
   "execution_count": 37,
   "metadata": {},
   "outputs": [
    {
     "name": "stderr",
     "output_type": "stream",
     "text": [
      "WARNING: Method definition propagacion(Any, Any, Any, Any, Any, Any) in module Main at In[31]:3 overwritten at In[37]:3.\n"
     ]
    },
    {
     "data": {
      "text/plain": [
       "propagacion (generic function with 1 method)"
      ]
     },
     "execution_count": 37,
     "metadata": {},
     "output_type": "execute_result"
    }
   ],
   "source": [
    "function propagacion(x0,A,t0,tf,h,f)\n",
    "\n",
    "    D=eigvals(A)\n",
    "    w = eigvecs(A)\n",
    "    t=[]\n",
    "    Arreglo=[]\n",
    "    push!(Arreglo,f(t0,x0))\n",
    "    push!(t,t0)\n",
    "    G(t)=w*diagm(exp.(D*t[length(t)]))*inv(w)\n",
    "    S=[]\n",
    "    push!(S,x0)\n",
    "    while t[length(t)]<tf\n",
    "        push!(t,t[length(t)]+h)\n",
    "        push!(S,G(t[length(t)])*x0)\n",
    "        push!(Arreglo,f(t[length(t)],S[length(S)]))\n",
    "    end\n",
    "    return S,t,Arreglo\n",
    "    \n",
    "    end\n",
    "    "
   ]
  },
  {
   "cell_type": "code",
   "execution_count": 38,
   "metadata": {},
   "outputs": [
    {
     "name": "stderr",
     "output_type": "stream",
     "text": [
      "WARNING: Method definition Dios(Any, Any, Any, Any) in module Main at In[32]:2 overwritten at In[38]:2.\n"
     ]
    },
    {
     "data": {
      "text/plain": [
       "Dios (generic function with 1 method)"
      ]
     },
     "execution_count": 38,
     "metadata": {},
     "output_type": "execute_result"
    }
   ],
   "source": [
    "function Dios(a,b,c,d)\n",
    "    A= [a b; c d]\n",
    "return A\n",
    "end"
   ]
  },
  {
   "cell_type": "code",
   "execution_count": 39,
   "metadata": {},
   "outputs": [
    {
     "name": "stderr",
     "output_type": "stream",
     "text": [
      "WARNING: Method definition comp1(Any) in module Main at In[33]:1 overwritten at In[39]:1.\n",
      "WARNING: Method definition comp2(Any) in module Main at In[33]:2 overwritten at In[39]:2.\n"
     ]
    },
    {
     "data": {
      "text/plain": [
       "comp2 (generic function with 1 method)"
      ]
     },
     "execution_count": 39,
     "metadata": {},
     "output_type": "execute_result"
    }
   ],
   "source": [
    "comp1(x)=x[1]\n",
    "comp2(x)=x[2]"
   ]
  },
  {
   "cell_type": "code",
   "execution_count": 46,
   "metadata": {},
   "outputs": [
    {
     "data": {
      "text/plain": [
       "102-element Array{Number,1}:\n",
       "           -3     \n",
       "    -2.79128+0.0im\n",
       "    -2.56989+0.0im\n",
       "    -2.34212+0.0im\n",
       "    -2.11325+0.0im\n",
       "    -1.88763+0.0im\n",
       "    -1.66874+0.0im\n",
       "    -1.45934+0.0im\n",
       "    -1.26148+0.0im\n",
       "    -1.07666+0.0im\n",
       "   -0.905858+0.0im\n",
       "   -0.749624+0.0im\n",
       "   -0.608145+0.0im\n",
       "            ⋮     \n",
       " 0.000286468+0.0im\n",
       " 0.000281852+0.0im\n",
       " 0.000272972+0.0im\n",
       " 0.000260762+0.0im\n",
       " 0.000246046+0.0im\n",
       " 0.000229546+0.0im\n",
       " 0.000211882+0.0im\n",
       " 0.000193586+0.0im\n",
       " 0.000175103+0.0im\n",
       " 0.000156801+0.0im\n",
       "  0.00013898+0.0im\n",
       " 0.000121874+0.0im"
      ]
     },
     "execution_count": 46,
     "metadata": {},
     "output_type": "execute_result"
    }
   ],
   "source": [
    "dx=comp1.(propagacion([1,2],[-1 1; -1 -1],0,10,0.1,(t,y)->[-1 1; -1 -1]*[y[1],y[2]])[3])\n",
    "dy=comp2.(propagacion([1,2],[-1 1; -1 -1],0,10,0.1,(t,y)->[-1 1; -1 -1]*[y[1],y[2]])[3])"
   ]
  },
  {
   "cell_type": "code",
   "execution_count": 47,
   "metadata": {},
   "outputs": [
    {
     "data": {
      "text/plain": [
       "102-element Array{Number,1}:\n",
       "             2     \n",
       "       1.7103+0.0im\n",
       "      1.44216+0.0im\n",
       "      1.19653+0.0im\n",
       "     0.973776+0.0im\n",
       "     0.773775+0.0im\n",
       "     0.596025+0.0im\n",
       "      0.43971+0.0im\n",
       "     0.303772+0.0im\n",
       "     0.186979+0.0im\n",
       "    0.0879723+0.0im\n",
       "   0.00532091+0.0im\n",
       "   -0.0624447+0.0im\n",
       "             ⋮     \n",
       " -0.000275744+0.0im\n",
       " -0.000247289+0.0im\n",
       " -0.000219516+0.0im\n",
       " -0.000192805+0.0im\n",
       " -0.000167447+0.0im\n",
       " -0.000143655+0.0im\n",
       " -0.000121576+0.0im\n",
       "   -0.0001013+0.0im\n",
       "  -8.28654e-5+0.0im\n",
       "   -6.6273e-5+0.0im\n",
       "  -5.14891e-5+0.0im\n",
       "  -3.84532e-5+0.0im"
      ]
     },
     "execution_count": 47,
     "metadata": {},
     "output_type": "execute_result"
    }
   ],
   "source": [
    "x=comp1.(propagacion([1,2],[-1 1; -1 -1],0,10,0.1,(t,y)->[-1 1; -1 -1]*[y[1],y[2]])[1])\n",
    "y=comp2.(propagacion([1,2],[-1 1; -1 -1],0,10,0.1,(t,y)->[-1 1; -1 -1]*[y[1],y[2]])[1])"
   ]
  },
  {
   "cell_type": "code",
   "execution_count": 48,
   "metadata": {},
   "outputs": [
    {
     "data": {
      "image/png": "[encoded data removed]",
      "text/plain": [
       "PyPlot.Figure(PyObject <matplotlib.figure.Figure object at 0x7f4d35241050>)"
      ]
     },
     "metadata": {},
     "output_type": "display_data"
    },
    {
     "data": {
      "text/plain": [
       "PyObject <matplotlib.text.Text object at 0x7f4d35266310>"
      ]
     },
     "execution_count": 48,
     "metadata": {},
     "output_type": "execute_result"
    }
   ],
   "source": [
    "plot(x,dx)\n",
    "plot(y,dy)\n",
    "title(\"Espacio fase\")"
   ]
  },
  {
   "cell_type": "code",
   "execution_count": null,
   "metadata": {},
   "outputs": [],
   "source": []
  },
  {
   "cell_type": "code",
   "execution_count": null,
   "metadata": {},
   "outputs": [],
   "source": []
  }
 ],
 "metadata": {
  "kernelspec": {
   "display_name": "Julia 0.5.2",
   "language": "julia",
   "name": "julia-0.5"
  },
  "language_info": {
   "file_extension": ".jl",
   "mimetype": "application/julia",
   "name": "julia",
   "version": "0.5.2"
  }
 },
 "nbformat": 4,
 "nbformat_minor": 2
}
