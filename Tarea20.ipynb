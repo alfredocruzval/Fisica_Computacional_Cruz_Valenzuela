{
 "cells": [
  {
   "cell_type": "markdown",
   "metadata": {},
   "source": [
    "## Ejercicio 1:\n",
    "\n",
    "Utilizando el ejemplo del notebook de clases\n",
    "\n",
    "Para una malla de 5 por 6 resolver la ecuación de Laplace utilizando las condiciones a la frontera siguiente: en la parte superior, toma los valores $\\{0, 70.7107, 100., 70.7107, 0\\}$ y en el resto de bordes es cero. El sistema de ecuaciones es el siguiente\n",
    "\n",
    "$$\\begin{align*}\n",
    "-4 f_{2,2}+f_{2,3}+f_{3,2}=0,\\\\f_{2,2}-4 f_{2,3}+f_{2,4}+f_{3,3}=0,\\\\f_{2,3}-4 f_{2,4}+f_{2,5}+f_{3,4}=0,\\\\f_{2,4}-4\n",
    "   f_{2,5}+f_{2,6}+f_{3,5}=0,\\\\f_{2,5}-4 f_{2,6}+f_{3,6}+70.7107=0,\\\\f_{2,2}-4 f_{3,2}+f_{3,3}+f_{4,2}=0,\\\\f_{2,3}+f_{3,2}-4\n",
    "   f_{3,3}+f_{3,4}+f_{4,3}=0,\\\\f_{2,4}+f_{3,3}-4 f_{3,4}+f_{3,5}+f_{4,4}=0,\\\\f_{2,5}+f_{3,4}-4 f_{3,5}+f_{3,6}+f_{4,5}=0,\\\\f_{2,6}+f_{3,5}-4\n",
    "   f_{3,6}+f_{4,6}+100.=0,\\\\f_{3,2}-4 f_{4,2}+f_{4,3}=0,\\\\f_{3,3}+f_{4,2}-4 f_{4,3}+f_{4,4}=0,\\\\f_{3,4}+f_{4,3}-4 f_{4,4}+f_{4,5}=0,\\\\f_{3,5}+f_{4,4}-4\n",
    "   f_{4,5}+f_{4,6}=0,\\\\f_{3,6}+f_{4,5}-4 f_{4,6}+70.7107=0.\n",
    "\\end{align*}$$\n",
    "\n",
    "El sistema de ecuaciones resultante es $A \\vec f +\\vec b= \\vec 0$ con $A$ igual a la siguiente matriz\n",
    "\n",
    "![alt text](https://render.githubusercontent.com/render/math?math=%5Cleft%28%0A%5Cbegin%7Barray%7D%7Bccccccccccccccc%7D%0A%20-4.%20%26amp%3B%201.%20%26amp%3B%200%20%26amp%3B%200%20%26amp%3B%200%20%26amp%3B%201.%20%26amp%3B%200%20%26amp%3B%200%20%26amp%3B%200%20%26amp%3B%200%20%26amp%3B%200%20%26amp%3B%200%20%26amp%3B%200%20%26amp%3B%200%20%26amp%3B%200%20%5C%5C%0A%201.%20%26amp%3B%20-4.%20%26amp%3B%201.%20%26amp%3B%200%20%26amp%3B%200%20%26amp%3B%200%20%26amp%3B%201.%20%26amp%3B%200%20%26amp%3B%200%20%26amp%3B%200%20%26amp%3B%200%20%26amp%3B%200%20%26amp%3B%200%20%26amp%3B%200%20%26amp%3B%200%20%5C%5C%0A%200%20%26amp%3B%201.%20%26amp%3B%20-4.%20%26amp%3B%201.%20%26amp%3B%200%20%26amp%3B%200%20%26amp%3B%200%20%26amp%3B%201.%20%26amp%3B%200%20%26amp%3B%200%20%26amp%3B%200%20%26amp%3B%200%20%26amp%3B%200%20%26amp%3B%200%20%26amp%3B%200%20%5C%5C%0A%200%20%26amp%3B%200%20%26amp%3B%201.%20%26amp%3B%20-4.%20%26amp%3B%201.%20%26amp%3B%200%20%26amp%3B%200%20%26amp%3B%200%20%26amp%3B%201.%20%26amp%3B%200%20%26amp%3B%200%20%26amp%3B%200%20%26amp%3B%200%20%26amp%3B%200%20%26amp%3B%200%20%5C%5C%0A%200%20%26amp%3B%200%20%26amp%3B%200%20%26amp%3B%201.%20%26amp%3B%20-4.%20%26amp%3B%200%20%26amp%3B%200%20%26amp%3B%200%20%26amp%3B%200%20%26amp%3B%201.%20%26amp%3B%200%20%26amp%3B%200%20%26amp%3B%200%20%26amp%3B%200%20%26amp%3B%200%20%5C%5C%0A%201.%20%26amp%3B%200%20%26amp%3B%200%20%26amp%3B%200%20%26amp%3B%200%20%26amp%3B%20-4.%20%26amp%3B%201.%20%26amp%3B%200%20%26amp%3B%200%20%26amp%3B%200%20%26amp%3B%201.%20%26amp%3B%200%20%26amp%3B%200%20%26amp%3B%200%20%26amp%3B%200%20%5C%5C%0A%200%20%26amp%3B%201.%20%26amp%3B%200%20%26amp%3B%200%20%26amp%3B%200%20%26amp%3B%201.%20%26amp%3B%20-4.%20%26amp%3B%201.%20%26amp%3B%200%20%26amp%3B%200%20%26amp%3B%200%20%26amp%3B%201.%20%26amp%3B%200%20%26amp%3B%200%20%26amp%3B%200%20%5C%5C%0A%200%20%26amp%3B%200%20%26amp%3B%201.%20%26amp%3B%200%20%26amp%3B%200%20%26amp%3B%200%20%26amp%3B%201.%20%26amp%3B%20-4.%20%26amp%3B%201.%20%26amp%3B%200%20%26amp%3B%200%20%26amp%3B%200%20%26amp%3B%201.%20%26amp%3B%200%20%26amp%3B%200%20%5C%5C%0A%200%20%26amp%3B%200%20%26amp%3B%200%20%26amp%3B%201.%20%26amp%3B%200%20%26amp%3B%200%20%26amp%3B%200%20%26amp%3B%201.%20%26amp%3B%20-4.%20%26amp%3B%201.%20%26amp%3B%200%20%26amp%3B%200%20%26amp%3B%200%20%26amp%3B%201.%20%26amp%3B%200%20%5C%5C%0A%200%20%26amp%3B%200%20%26amp%3B%200%20%26amp%3B%200%20%26amp%3B%201.%20%26amp%3B%200%20%26amp%3B%200%20%26amp%3B%200%20%26amp%3B%201.%20%26amp%3B%20-4.%20%26amp%3B%200%20%26amp%3B%200%20%26amp%3B%200%20%26amp%3B%200%20%26amp%3B%201.%20%5C%5C%0A%200%20%26amp%3B%200%20%26amp%3B%200%20%26amp%3B%200%20%26amp%3B%200%20%26amp%3B%201.%20%26amp%3B%200%20%26amp%3B%200%20%26amp%3B%200%20%26amp%3B%200%20%26amp%3B%20-4.%20%26amp%3B%201.%20%26amp%3B%200%20%26amp%3B%200%20%26amp%3B%200%20%5C%5C%0A%200%20%26amp%3B%200%20%26amp%3B%200%20%26amp%3B%200%20%26amp%3B%200%20%26amp%3B%200%20%26amp%3B%201.%20%26amp%3B%200%20%26amp%3B%200%20%26amp%3B%200%20%26amp%3B%201.%20%26amp%3B%20-4.%20%26amp%3B%201.%20%26amp%3B%200%20%26amp%3B%200%20%5C%5C%0A%200%20%26amp%3B%200%20%26amp%3B%200%20%26amp%3B%200%20%26amp%3B%200%20%26amp%3B%200%20%26amp%3B%200%20%26amp%3B%201.%20%26amp%3B%200%20%26amp%3B%200%20%26amp%3B%200%20%26amp%3B%201.%20%26amp%3B%20-4.%20%26amp%3B%201.%20%26amp%3B%200%20%5C%5C%0A%200%20%26amp%3B%200%20%26amp%3B%200%20%26amp%3B%200%20%26amp%3B%200%20%26amp%3B%200%20%26amp%3B%200%20%26amp%3B%200%20%26amp%3B%201.%20%26amp%3B%200%20%26amp%3B%200%20%26amp%3B%200%20%26amp%3B%201.%20%26amp%3B%20-4.%20%26amp%3B%201.%20%5C%5C%0A%200%20%26amp%3B%200%20%26amp%3B%200%20%26amp%3B%200%20%26amp%3B%200%20%26amp%3B%200%20%26amp%3B%200%20%26amp%3B%200%20%26amp%3B%200%20%26amp%3B%201.%20%26amp%3B%200%20%26amp%3B%200%20%26amp%3B%200%20%26amp%3B%201.%20%26amp%3B%20-4.%20%5C%5C%0A%5Cend%7Barray%7D%0A%5Cright%29&mode=display)\n",
    "\n",
    "y $b$ de la forma\n",
    "$$\n",
    "(0.,0.,0.,0.,70.7107,0.,0.,0.,0.,100.,0.,0.,0.,0.,70.7107)^T.\n",
    "$$\n",
    "La solución a este sistema es $\\vec f=-A^{-1}\\vec b$.\n",
    "\n",
    "Crear una rutina que construya $A$ y $\\vec b$ para este sistema. Resuelvalo utilizando la función inv y grafique $\\vec f$ utilizando la funcion pcolormesh. Recuerde que aqui $\\vec f$ es un vector, para volverlo de nuevo una matriz con entradas $f_{i,j}$ pueden usar la función reshape.\n",
    "\n"
   ]
  },
  {
   "cell_type": "code",
   "execution_count": 1,
   "metadata": {},
   "outputs": [
    {
     "data": {
      "text/plain": [
       "225-element Array{Float64,1}:\n",
       " -4.0\n",
       "  1.0\n",
       "  0.0\n",
       "  0.0\n",
       "  0.0\n",
       "  1.0\n",
       "  0.0\n",
       "  0.0\n",
       "  0.0\n",
       "  0.0\n",
       "  0.0\n",
       "  0.0\n",
       "  0.0\n",
       "  ⋮  \n",
       "  0.0\n",
       "  0.0\n",
       "  0.0\n",
       "  0.0\n",
       "  0.0\n",
       "  0.0\n",
       "  1.0\n",
       "  0.0\n",
       "  0.0\n",
       "  0.0\n",
       "  1.0\n",
       " -4.0"
      ]
     },
     "execution_count": 1,
     "metadata": {},
     "output_type": "execute_result"
    }
   ],
   "source": [
    "#Se ingresan todas las entradas pero como si fuera un vector\n",
    "Av=[-4. , 1. , 0 , 0 , 0 , 1. , 0 , 0 , 0 , 0 , 0 , 0 , 0 , 0 , 0 ,1. , -4. , 1. , 0 , 0 , 0 , 1. , 0 , 0 , 0 , 0 , 0 , 0 , 0 , 0, 0 , 1. , -4. , 1. , 0 , 0 , 0 , 1. , 0 , 0 , 0 , 0 , 0 , 0 , 0,0 , 0 , 1. , -4. , 1. , 0 , 0 , 0 , 1. , 0 , 0 , 0 , 0 , 0 , 0, 0 , 0 , 0 , 1. , -4. , 0 , 0 , 0 , 0 , 1. , 0 , 0 , 0 , 0 , 0, 1. , 0 , 0 , 0 , 0 , -4. , 1. , 0 , 0 , 0 , 1. , 0 , 0 , 0 , 0, 0 , 1. , 0 , 0 , 0 , 1. , -4. , 1. , 0 , 0 , 0 , 1. , 0 , 0 , 0 ,0 , 0 , 1. , 0 , 0 , 0 , 1. , -4. , 1. , 0 , 0 , 0 , 1. , 0 , 0, 0 , 0 , 0 , 1. , 0 , 0 , 0 , 1. , -4. , 1. , 0 , 0 , 0 , 1. , 0,0 , 0 , 0 , 0 , 1. , 0 , 0 , 0 , 1. , -4. , 0 , 0 , 0 , 0 , 1.,0 , 0 , 0 , 0 , 0 , 1. , 0 , 0 , 0 , 0 , -4. , 1. , 0 , 0 , 0 ,0 , 0 , 0 , 0 , 0 , 0 , 1. , 0 , 0 , 0 , 1. , -4. , 1. , 0 , 0,0 , 0 , 0 , 0 , 0 , 0 , 0 , 1. , 0 , 0 , 0 , 1. , -4. , 1. , 0,0 , 0 , 0 , 0 , 0 , 0 , 0 , 0 , 1. , 0 , 0 , 0 , 1. , -4. , 1.,0 , 0 , 0 , 0 , 0 , 0 , 0 , 0 , 0 , 1. , 0 , 0 , 0 , 1. , -4.]"
   ]
  },
  {
   "cell_type": "code",
   "execution_count": 2,
   "metadata": {},
   "outputs": [
    {
     "data": {
      "text/plain": [
       "15×15 Array{Float64,2}:\n",
       " -4.0   1.0   0.0   0.0   0.0   1.0  …   0.0   0.0   0.0   0.0   0.0   0.0\n",
       "  1.0  -4.0   1.0   0.0   0.0   0.0      0.0   0.0   0.0   0.0   0.0   0.0\n",
       "  0.0   1.0  -4.0   1.0   0.0   0.0      0.0   0.0   0.0   0.0   0.0   0.0\n",
       "  0.0   0.0   1.0  -4.0   1.0   0.0      0.0   0.0   0.0   0.0   0.0   0.0\n",
       "  0.0   0.0   0.0   1.0  -4.0   0.0      1.0   0.0   0.0   0.0   0.0   0.0\n",
       "  1.0   0.0   0.0   0.0   0.0  -4.0  …   0.0   1.0   0.0   0.0   0.0   0.0\n",
       "  0.0   1.0   0.0   0.0   0.0   1.0      0.0   0.0   1.0   0.0   0.0   0.0\n",
       "  0.0   0.0   1.0   0.0   0.0   0.0      0.0   0.0   0.0   1.0   0.0   0.0\n",
       "  0.0   0.0   0.0   1.0   0.0   0.0      1.0   0.0   0.0   0.0   1.0   0.0\n",
       "  0.0   0.0   0.0   0.0   1.0   0.0     -4.0   0.0   0.0   0.0   0.0   1.0\n",
       "  0.0   0.0   0.0   0.0   0.0   1.0  …   0.0  -4.0   1.0   0.0   0.0   0.0\n",
       "  0.0   0.0   0.0   0.0   0.0   0.0      0.0   1.0  -4.0   1.0   0.0   0.0\n",
       "  0.0   0.0   0.0   0.0   0.0   0.0      0.0   0.0   1.0  -4.0   1.0   0.0\n",
       "  0.0   0.0   0.0   0.0   0.0   0.0      0.0   0.0   0.0   1.0  -4.0   1.0\n",
       "  0.0   0.0   0.0   0.0   0.0   0.0      1.0   0.0   0.0   0.0   1.0  -4.0"
      ]
     },
     "execution_count": 2,
     "metadata": {},
     "output_type": "execute_result"
    }
   ],
   "source": [
    "Av=[-4. , 1. , 0 , 0 , 0 , 1. , 0 , 0 , 0 , 0 , 0 , 0 , 0 , 0 , 0 ,1. , -4. , 1. , 0 , 0 , 0 , 1. , 0 , 0 , 0 , 0 , 0 , 0 , 0 , 0, 0 , 1. , -4. , 1. , 0 , 0 , 0 , 1. , 0 , 0 , 0 , 0 , 0 , 0 , 0,0 , 0 , 1. , -4. , 1. , 0 , 0 , 0 , 1. , 0 , 0 , 0 , 0 , 0 , 0, 0 , 0 , 0 , 1. , -4. , 0 , 0 , 0 , 0 , 1. , 0 , 0 , 0 , 0 , 0, 1. , 0 , 0 , 0 , 0 , -4. , 1. , 0 , 0 , 0 , 1. , 0 , 0 , 0 , 0, 0 , 1. , 0 , 0 , 0 , 1. , -4. , 1. , 0 , 0 , 0 , 1. , 0 , 0 , 0 ,0 , 0 , 1. , 0 , 0 , 0 , 1. , -4. , 1. , 0 , 0 , 0 , 1. , 0 , 0, 0 , 0 , 0 , 1. , 0 , 0 , 0 , 1. , -4. , 1. , 0 , 0 , 0 , 1. , 0,0 , 0 , 0 , 0 , 1. , 0 , 0 , 0 , 1. , -4. , 0 , 0 , 0 , 0 , 1.,0 , 0 , 0 , 0 , 0 , 1. , 0 , 0 , 0 , 0 , -4. , 1. , 0 , 0 , 0 ,0 , 0 , 0 , 0 , 0 , 0 , 1. , 0 , 0 , 0 , 1. , -4. , 1. , 0 , 0,0 , 0 , 0 , 0 , 0 , 0 , 0 , 1. , 0 , 0 , 0 , 1. , -4. , 1. , 0,0 , 0 , 0 , 0 , 0 , 0 , 0 , 0 , 1. , 0 , 0 , 0 , 1. , -4. , 1.,0 , 0 , 0 , 0 , 0 , 0 , 0 , 0 , 0 , 1. , 0 , 0 , 0 , 1. , -4.]\n",
    "Am= reshape(Av,(15,15)) #Ahora el vector metido anteriormente lo convertimos a una matriz"
   ]
  },
  {
   "cell_type": "code",
   "execution_count": 6,
   "metadata": {},
   "outputs": [
    {
     "data": {
      "image/png": "[encoded data removed]",
      "text/plain": [
       "PyPlot.Figure(PyObject <matplotlib.figure.Figure object at 0x7fd02c339290>)"
      ]
     },
     "metadata": {},
     "output_type": "display_data"
    },
    {
     "data": {
      "text/plain": [
       "PyObject <matplotlib.collections.QuadMesh object at 0x7fd02a2e0210>"
      ]
     },
     "execution_count": 6,
     "metadata": {},
     "output_type": "execute_result"
    }
   ],
   "source": [
    "using PyPlot\n",
    "Av=[-4. , 1. , 0 , 0 , 0 , 1. , 0 , 0 , 0 , 0 , 0 , 0 , 0 , 0 , 0 ,1. , -4. , 1. , 0 , 0 , 0 , 1. , 0 , 0 , 0 , 0 , 0 , 0 , 0 , 0, 0 , 1. , -4. , 1. , 0 , 0 , 0 , 1. , 0 , 0 , 0 , 0 , 0 , 0 , 0,0 , 0 , 1. , -4. , 1. , 0 , 0 , 0 , 1. , 0 , 0 , 0 , 0 , 0 , 0, 0 , 0 , 0 , 1. , -4. , 0 , 0 , 0 , 0 , 1. , 0 , 0 , 0 , 0 , 0, 1. , 0 , 0 , 0 , 0 , -4. , 1. , 0 , 0 , 0 , 1. , 0 , 0 , 0 , 0, 0 , 1. , 0 , 0 , 0 , 1. , -4. , 1. , 0 , 0 , 0 , 1. , 0 , 0 , 0 ,0 , 0 , 1. , 0 , 0 , 0 , 1. , -4. , 1. , 0 , 0 , 0 , 1. , 0 , 0, 0 , 0 , 0 , 1. , 0 , 0 , 0 , 1. , -4. , 1. , 0 , 0 , 0 , 1. , 0,0 , 0 , 0 , 0 , 1. , 0 , 0 , 0 , 1. , -4. , 0 , 0 , 0 , 0 , 1.,0 , 0 , 0 , 0 , 0 , 1. , 0 , 0 , 0 , 0 , -4. , 1. , 0 , 0 , 0 ,0 , 0 , 0 , 0 , 0 , 0 , 1. , 0 , 0 , 0 , 1. , -4. , 1. , 0 , 0,0 , 0 , 0 , 0 , 0 , 0 , 0 , 1. , 0 , 0 , 0 , 1. , -4. , 1. , 0,0 , 0 , 0 , 0 , 0 , 0 , 0 , 0 , 1. , 0 , 0 , 0 , 1. , -4. , 1.,0 , 0 , 0 , 0 , 0 , 0 , 0 , 0 , 0 , 1. , 0 , 0 , 0 , 1. , -4.]\n",
    "Am= reshape(Av,(15,15))\n",
    "Bv= [0.,0.,0.,0.,70.7107,0.,0.,0.,0.,100.,0.,0.,0.,0.,70.7107]\n",
    "S = -inv(Am)*Bv\n",
    "S2 = reshape(S,(5,3))\n",
    "pcolormesh(S2)\n",
    "\n",
    "# Ingresando el vector b que nos dan en el ejercicio, entonces se puede obtener la solución entre ellos como sistema\n",
    "#Sea la variable \" la primera solución, mientras que la segunda solución S2 será la que #graficaremos\""
   ]
  },
  {
   "cell_type": "code",
   "execution_count": 22,
   "metadata": {},
   "outputs": [
    {
     "data": {
      "image/png": "[encoded data removed]",
      "text/plain": [
       "PyPlot.Figure(PyObject <matplotlib.figure.Figure object at 0x7ff53eaba290>)"
      ]
     },
     "metadata": {},
     "output_type": "display_data"
    },
    {
     "data": {
      "text/plain": [
       "PyObject <matplotlib.collections.QuadMesh object at 0x7ff53eab1a50>"
      ]
     },
     "execution_count": 22,
     "metadata": {},
     "output_type": "execute_result"
    }
   ],
   "source": [
    "S2 = reshape(S,(3,5))\n",
    "pcolormesh(S2)  #Lo mismo que la anterior pero invertidas las entradas"
   ]
  },
  {
   "cell_type": "code",
   "execution_count": 46,
   "metadata": {},
   "outputs": [
    {
     "data": {
      "text/plain": [
       "15×15 Array{Float64,2}:\n",
       " -4.0   1.0   0.0   0.0   0.0   1.0  …   0.0   0.0   0.0   0.0   0.0   0.0\n",
       "  1.0  -4.0   1.0   0.0   0.0   0.0      0.0   0.0   0.0   0.0   0.0   0.0\n",
       "  0.0   1.0  -4.0   1.0   0.0   0.0      0.0   0.0   0.0   0.0   0.0   0.0\n",
       "  0.0   0.0   1.0  -4.0   1.0   0.0      0.0   0.0   0.0   0.0   0.0   0.0\n",
       "  0.0   0.0   0.0   1.0  -4.0   0.0      1.0   0.0   0.0   0.0   0.0   0.0\n",
       "  1.0   0.0   0.0   0.0   0.0  -4.0  …   0.0   1.0   0.0   0.0   0.0   0.0\n",
       "  0.0   1.0   0.0   0.0   0.0   1.0      0.0   0.0   1.0   0.0   0.0   0.0\n",
       "  0.0   0.0   1.0   0.0   0.0   0.0      0.0   0.0   0.0   1.0   0.0   0.0\n",
       "  0.0   0.0   0.0   1.0   0.0   0.0      1.0   0.0   0.0   0.0   1.0   0.0\n",
       "  0.0   0.0   0.0   0.0   1.0   0.0     -4.0   0.0   0.0   0.0   0.0   1.0\n",
       "  0.0   0.0   0.0   0.0   0.0   1.0  …   0.0  -4.0   1.0   0.0   0.0   0.0\n",
       "  0.0   0.0   0.0   0.0   0.0   0.0      0.0   1.0  -4.0   1.0   0.0   0.0\n",
       "  0.0   0.0   0.0   0.0   0.0   0.0      0.0   0.0   1.0  -4.0   1.0   0.0\n",
       "  0.0   0.0   0.0   0.0   0.0   0.0      0.0   0.0   0.0   1.0  -4.0   1.0\n",
       "  0.0   0.0   0.0   0.0   0.0   0.0      1.0   0.0   0.0   0.0   1.0  -4.0"
      ]
     },
     "execution_count": 46,
     "metadata": {},
     "output_type": "execute_result"
    }
   ],
   "source": [
    "#En esta parte se realiza un código para evitar ingresar un vector tan grande como el que se puso en la primra parte de la tarea\n",
    "n = 15              # # de vectores y columnas de la matriz\n",
    "Am = zeros(n,n)     #Definimos una matriz\n",
    "for i in 1:n\n",
    "for j in 1:n    #ciclos donde trabajarán nuestro código\n",
    "if i==j \n",
    "Am[i,j]=-4  #-4 porque es lo que nos piden en la diagonal\n",
    "elseif i+1==j\n",
    "Am[j,i]=Am[i,j]=1  #Los 1 más proximos a la diagonal.   \n",
    "elseif i+5==j\n",
    "Am[j,i]=Am[i,j]=1  #Los 1 alejados 5 mxn de la diagonal\n",
    "end\n",
    "end\n",
    "end\n",
    "Am[6,5]=Am[5,6]=0   #Exclusion de algunos elementos\n",
    "Am[11,10]=Am[10,11]=0   \n",
    "Am"
   ]
  },
  {
   "cell_type": "code",
   "execution_count": 47,
   "metadata": {},
   "outputs": [
    {
     "data": {
      "text/plain": [
       "15-element Array{Float64,1}:\n",
       "   0.0   \n",
       "   0.0   \n",
       "   0.0   \n",
       "   0.0   \n",
       "  70.7107\n",
       "   0.0   \n",
       "   0.0   \n",
       "   0.0   \n",
       "   0.0   \n",
       " 100.0   \n",
       "   0.0   \n",
       "   0.0   \n",
       "   0.0   \n",
       "   0.0   \n",
       "  70.7107"
      ]
     },
     "execution_count": 47,
     "metadata": {},
     "output_type": "execute_result"
    }
   ],
   "source": [
    "Vb = zeros(n)   #Se ingresa un vector con las mismas entradas que am para que así funcione el código\n",
    "Vb[5] = 70.7107  #elementos que son distintos a cero.\n",
    "Vb[10] = 100\n",
    "Vb[15] = 70.7107\n",
    "Vb"
   ]
  },
  {
   "cell_type": "code",
   "execution_count": 51,
   "metadata": {},
   "outputs": [
    {
     "data": {
      "image/png": "[encoded data removed]",
      "text/plain": [
       "PyPlot.Figure(PyObject <matplotlib.figure.Figure object at 0x7fd02939b2d0>)"
      ]
     },
     "metadata": {},
     "output_type": "display_data"
    },
    {
     "data": {
      "text/plain": [
       "PyObject <matplotlib.collections.QuadMesh object at 0x7fd02931e650>"
      ]
     },
     "execution_count": 51,
     "metadata": {},
     "output_type": "execute_result"
    }
   ],
   "source": [
    "S = -inv(Am)*Vb #vector columna de 15 elementos\n",
    "SCaudritos = reshape(S,(5,3))\n",
    "pcolormesh(SCuadritos)"
   ]
  },
  {
   "cell_type": "code",
   "execution_count": null,
   "metadata": {},
   "outputs": [],
   "source": []
  }
 ],
 "metadata": {
  "kernelspec": {
   "display_name": "Julia 0.5.2",
   "language": "julia",
   "name": "julia-0.5"
  },
  "language_info": {
   "file_extension": ".jl",
   "mimetype": "application/julia",
   "name": "julia",
   "version": "0.5.2"
  }
 },
 "nbformat": 4,
 "nbformat_minor": 2
}
