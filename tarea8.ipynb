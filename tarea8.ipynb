{
 "cells": [
  {
   "cell_type": "markdown",
   "metadata": {},
   "source": [
    "Ejercicio 1"
   ]
  },
  {
   "cell_type": "code",
   "execution_count": 2,
   "metadata": {
    "collapsed": false
   },
   "outputs": [
    {
     "data": {
      "text/plain": [
       "derivada_numerica (generic function with 1 method)"
      ]
     },
     "execution_count": 2,
     "metadata": {},
     "output_type": "execute_result"
    }
   ],
   "source": [
    "function  derivada_numerica(f,x,h) #Función\n",
    "    derivada=(f(x+h)-f(x))/h  #Expresión derivada numérica sin límite\n",
    "        return derivada\n",
    "        \n",
    "end"
   ]
  },
  {
   "cell_type": "code",
   "execution_count": 6,
   "metadata": {
    "collapsed": false
   },
   "outputs": [
    {
     "data": {
      "text/plain": [
       "20.000072709080996"
      ]
     },
     "execution_count": 6,
     "metadata": {},
     "output_type": "execute_result"
    }
   ],
   "source": [
    "derivada_numerica(x->x^2,10,0.0000000001) #valor pequeño para que converja al valor real de la derivada"
   ]
  },
  {
   "cell_type": "markdown",
   "metadata": {},
   "source": [
    "Ejercicio 7"
   ]
  },
  {
   "cell_type": "markdown",
   "metadata": {},
   "source": [
    "Tenemos que:\n",
    "\n",
    "#### $$f(x+h)=f(x)+f´(x)h+\\frac{1}{2}f´´(x)h^2+....$$\n",
    "\n",
    "\n",
    " #### $$f(x-h)=f(x)-f´(x)h+\\frac{1}{2}f´´(x)h^2+....$$\n",
    " \n",
    " A parte también se tiene que $\\delta_h= \\Delta_h - \\Delta_{-h}$\n",
    " \n",
    " A partir de esto se llega a la diguiente expresión:\n",
    " \n",
    " $$\\Delta_h=exp((h)\\frac{d}{d\\xi} |_{\\substack{ \\xi=x}})-1 -(exp((-h)\\frac{d}{d\\xi} |_{\\substack{ \\xi=x}})-1)$$\n",
    " \n",
    " Por otro lado sabemos por lo visto en clase que:\n",
    " \n",
    " $$\\delta_h=2\\sinh((h)\\frac{d}{d\\xi} |_{\\substack{ \\xi=x}})$$\n",
    " \n",
    " al suistituirla se obtiene:\n",
    " \n",
    " $$ \\frac{1}{h}\\sum_{n=0}^{\\infty}\\frac{(-1^n)(2n)!}{2^(2n)(n!)^2} \\left(\\frac{\\delta_h}{2}\\right)^2n$$\n",
    " \n",
    "Calculando el primer término, se debe obtener la derivada que ya se obtuvo anteriormente \n",
    " \n",
    " por lo tanto $\\frac{df}{dx}=\\frac{1}{h}\\frac{1}{1}(\\frac{\\delta f}{2})^1 = \\frac{\\delta\n",
    " f}{2h} = \\frac{f(x+h)-f(x-h)}{2h}$"
   ]
  },
  {
   "cell_type": "code",
   "execution_count": null,
   "metadata": {
    "collapsed": true
   },
   "outputs": [],
   "source": []
  },
  {
   "cell_type": "code",
   "execution_count": null,
   "metadata": {
    "collapsed": true
   },
   "outputs": [],
   "source": []
  }
 ],
 "metadata": {
  "kernelspec": {
   "display_name": "Julia 0.6.0",
   "language": "julia",
   "name": "julia-0.6"
  },
  "language_info": {
   "file_extension": ".jl",
   "mimetype": "application/julia",
   "name": "julia",
   "version": "0.6.0"
  }
 },
 "nbformat": 4,
 "nbformat_minor": 2
}
