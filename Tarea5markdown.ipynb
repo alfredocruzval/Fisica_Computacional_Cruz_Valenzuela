{
 "cells": [
  {
   "cell_type": "markdown",
   "metadata": {},
   "source": [
    "# Método de integración de Riemann #\n",
    "\n",
    "La integral de Riemann es una operación sobre una función continua y limitada en un intervalo [a; b], donde a y b son llamados los extremos de la integración. La operación consiste en hallar el límite de la suma de productos entre el valor de la función en un punto xi* y el ancho Δx del subintervalo conteniendo al punto.\n",
    "\n",
    "$$ \\lim_{n \\to \\infty} \\sum_{i=0}^{n-1} f(x_i)\\Delta(x_i) $$\n",
    "\n",
    "Donde n es la cantidad de subintervalos.\n",
    "\n",
    "Normalmente se nota como:\n",
    "\n",
    " $$ \\int_a^b f(x)dx$$\n",
    "\n",
    "La integral de Riemann es una forma simple de definir la integral de una función sobre un intervalo como el área bajo la curva de la función.\n",
    "\n",
    "Sea f una función con valores reales definida sobre el intervalo [a, b], tal que para todo x, f(x)≥0 (es decir, tal que f es positiva). Sea S = Sf={(x, y)|0≤y≤f(x)} la región del plano delimitada por la curva correspondiente a la función f, el eje de las abscisas y las rectas verticales de ecuaciones x=a y x=b. Estamos interesados en medir el área del dominio S, si es que se puede medir.\n",
    "\n",
    "Para obtener una aproximación al área encerrada debajo de una curva, se la puede dividir en rectángulos.\n",
    "\n",
    "El área de cada rectángulo, es el producto de la función en un punto, por el ancho del intervalo.\n",
    "\n",
    "Al aumentar el número de rectángulos se obtiene una mejor aproximación.\n",
    "\n",
    "La idea fundamental de la teoría de la integración de Riemann es la de utilizar aproximaciones del área del dominio S. Determinaremos un área aproximada de la que estamos seguros de que son inferiores al área del dominio S, y buscaremos un área aproximada que sepamos que es mayor al área de S. Si estas aproximaciones pueden hacerse de forma que la diferencia entre ambas puede hacerse arbitrariamente pequeña, entonces podemos obtener el área del dominio S. Por lo tanto, el límite del área para infinitos rectángulos es el área comprendida debajo de la curva.\n",
    "\n",
    "![alt text](https://upload.wikimedia.org/wikipedia/commons/thumb/a/af/Riemann_Integration_4.png/400px-Riemann_Integration_4.png)"
   ]
  },
  {
   "cell_type": "markdown",
   "metadata": {},
   "source": [
    "# Regla del Trapecio\n",
    "\n",
    "Es un método de integración para calcular aproximadamente el valor de la integral definida.\n",
    "\n",
    " $$ \\int_a^b f(x)dx$$\n",
    " \n",
    "La regla se basa en aproximar el valor de la integral de f(x) por el de la función lineal que pasa a través de los puntos(a, f(a)) y (b, f(b)). La integral de ésta es igual al área del trapecio bajo la gráfica de la función lineal. Se sigue que:\n",
    "\n",
    " $$ \\int_a^b f(x)dx = (b-a) \\frac{(f(a)+f(b)}{2}$$\n",
    "\n",
    "Y el error es:\n",
    "\n",
    "$$-\\frac{(b-a)^3}{12} (f^2)(\\Psi)$$\n",
    "\n",
    "Siendo \\Psi un número entre a y b\n",
    "\n",
    "# Regla del Trapecio compuesta\n",
    "\n",
    "Es una  forma  de  aproximar  una  integral  definida utilizando n trapecios. En la formulación de este método se supone que f es continua y positiva en el intervalo [a,b].\n",
    "De tal modo la integral definida:\n",
    "\n",
    " $$ \\int_a^b f(x)dx$$\n",
    "\n",
    "representa el área de la región delimitada por la gráfica de \n",
    "f y el eje x, desde x=a hasta x=b. Primero se divide el intervalo [a,b] en n subintervalos, cada uno de ancho $\\Delta_x=\\frac{(b-a)}{n}$. Después de realizar todo el poceso matemático se llega a la siguiente fórmula:\n",
    "\n",
    "$$\\int_a^b f(x)dx \\approx \\frac{h}{2}\\left[f(a)+2f(a+h)+2f(a+2h)+...+f(b)\\right]$$\n",
    " \n",
    "Donde $h=\\frac{(b-a)}{n}$ y n es el número de divisiones.\n",
    "\n",
    "La expresión anterior también se puede escribir como:\n",
    "\n",
    "$$\\int_a^b f(x)dx \\approx \\frac{(b-a)}{n}\\left[\\frac{f(a)+f(b)}{2}+\\sum_{k=1}^{n-1} f\\left(a+k\\frac{(b-a)}{n}\\right)\\right]$$\n",
    "\n",
    "![alt text](https://upload.wikimedia.org/wikipedia/commons/thumb/0/05/Trapezoidal_rule_illustration_small.svg/220px-Trapezoidal_rule_illustration_small.svg.png)"
   ]
  },
  {
   "cell_type": "markdown",
   "metadata": {},
   "source": [
    "## Regla de Simpson ##\n",
    "\n",
    "Tomando un polinomio de grado n=2 para interpolar a f, se obtiene la regla de Simpson: \n",
    "\n",
    "$$ \\int_a^b f(x)dx \\approx\\frac{b-a}{6}\\left[f(a)+4f\\left(\\frac{a+b}{2}\\right)+f(b)\\right]$$\n",
    " \n",
    "que es exacta para todos los polinomios de grado $\\leq$ 2 y curiosamente, exacta para todos los polinomios de grado $\\leq$ 3. \n",
    "\n",
    "En los cálculos prácticos se emplea, generalmente, la regla de Simpson compuesta, en la que el intervalo de integración [a,b] se divide en un número par, n, de subintervalos. Tenemos entonces: \n",
    "\n",
    "$$ a_i = a+ih (0\\leq i \\leq n)$$\n",
    "\n",
    "en donde $h=\\frac{b-a}{n}$\n",
    "\n",
    "Aplicando la regla de Simpson en cada uno de los subintervalos se obtiene la expresión final:\n",
    "\n",
    "$$\\int_{a}^{b} f(x)dx \\approx \\frac{h}{3}\\left[ f(x_{0}) + 2\\sum_{i=2}^{n/2}(x_{2i-2}) + 4\\sum_{i=1}^{n/2} f(x_{2i-1}) + f(x_{n}) \\right]$$\n",
    "\n",
    "![alt text](https://upload.wikimedia.org/wikipedia/commons/thumb/c/ca/Simpsons_method_illustration.svg/220px-Simpsons_method_illustration.svg.png)"
   ]
  },
  {
   "cell_type": "markdown",
   "metadata": {},
   "source": []
  }
 ],
 "metadata": {
  "kernelspec": {
   "display_name": "Julia 0.6.0",
   "language": "julia",
   "name": "julia-0.6"
  },
  "language_info": {
   "file_extension": ".jl",
   "mimetype": "application/julia",
   "name": "julia",
   "version": "0.6.0"
  }
 },
 "nbformat": 4,
 "nbformat_minor": 2
}
