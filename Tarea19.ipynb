{
 "cells": [
  {
   "cell_type": "markdown",
   "metadata": {},
   "source": [
    "## Ejercicio1##"
   ]
  },
  {
   "cell_type": "markdown",
   "metadata": {},
   "source": [
    "Escriba la forma del operador laplaciano utilizando diferencias finitas simétricas. \n",
    "\n",
    "Se debe discretizar \n",
    "\n",
    "![alt text](https://render.githubusercontent.com/render/math?math=%5Cnabla%5E2%3D%5Cfrac%7B%5Cpartial%5E2%20f%7D%7B%5Cpartial%20x%5E2%7D%2B%5Cfrac%7B%5Cpartial%5E2%20f%7D%7B%5Cpartial%20y%5E2%7D%2B%5Cfrac%7B%5Cpartial%5E2%20f%7D%7B%5Cpartial%20z%5E2%7D&mode=inline)\n"
   ]
  },
  {
   "cell_type": "markdown",
   "metadata": {},
   "source": [
    "Conocemos que la expresión de la derivada simétrica se ve de al sig forma: ![alt text](https://render.githubusercontent.com/render/math?math=%5Cfrac%7Bdf%7D%7Bdx%7D%20%5Capprox%20%5Cfrac%7Bf%28x%2Bh%29-f%28x-h%29%7D%7B2h%7D&mode=display)\n",
    "\n",
    "pero la diferencia de la segunda derivada de la funci{on f se ve como $$f´´(x)=\\frac{f(x+h)-2f(x)+f(x-h)}{h^2}$$"
   ]
  },
  {
   "cell_type": "markdown",
   "metadata": {},
   "source": [
    "Obteniendo la segunda derivada en $$R^3$$ entonces el laplaciano se verá todo reagrupado de la sig. forma:\n",
    "\n",
    "$$\\nabla^2=\\frac{f(x+h,y,z)-2f(x,y,z)+f(x-h,y,z)+f(x,y+h,z)-2f(x,y,z)+f(x,y-h,z)+F(x,y,z+h)-2f(x,y,z)+f(x,y,z-h}{h^2}$$\n",
    "\n",
    "simplificando términos, entonces:\n",
    "\n",
    "$$\\nabla^2=\\frac{f(x+h,y,z)+f(x-h,y,z)+f(x,y+h,z)+f(x,y-h,z)+F(x,y,z+h)+f(x,y,z-h)-6f(x,y,z)}{h^2}$$"
   ]
  },
  {
   "cell_type": "markdown",
   "metadata": {},
   "source": [
    "## Ejercicio2##"
   ]
  },
  {
   "cell_type": "markdown",
   "metadata": {},
   "source": [
    "Discretice la ecuación en el intervalo [0,1][0,1], y aplicando el operador laplaciano discretizado obtenga el sistema de ecuaciones algebraicas lineales correspondientes al problema de Dirichlet: f(0)=af(0)=a y f(1)=bf(1)=b dividiendo el intervalo [0,1][0,1] en 55 puntos separados por h.\n",
    "![alt text](https://render.githubusercontent.com/render/math?math=%5Cfrac%7Bd%5E2f%7D%7Bdx%5E2%7D%2C&mode=display)"
   ]
  },
  {
   "cell_type": "markdown",
   "metadata": {},
   "source": [
    "Se debe igualar la segunda derivada de x a cero y a partir de ahí se obntiene la expresión con la cual se obtendrá la discretización, vista con subindices.\n",
    "\n",
    "Entonces, primero: $$f(x_i+1)-2f(x)+f(x_x-i)=0$$\n",
    "\n",
    "Después se debe de dividir el intervalo en en cinco puntos, los cuales serán $$0,\\frac{1}{5},\\frac{2}{5},\\frac{3}{5},1$$\n",
    "\n",
    "a partir de la división del intervalo y la evaluación de los puntos, se pueden establecer trees ecuaciones\n",
    "\n",
    "$$f(x1)-2f(x2)+f(x3)=0$$\n",
    "$$f(x2)-2f(x3)+f(x4)=0$$\n",
    "$$f(x3)-2f(x4)+f(x5)=0$$\n",
    "\n",
    "sustituyendo $$f(0)=f(x1)=a$$ y $$f(1)=f(x5)=b$$\n",
    "nuestro sistema queda de la sig forma:\n",
    " $$a+2f(x2)+f(x3)$$\n",
    " $$f(x2)+2f(x3)+f(x4)=0$$\n",
    " $$b+2f(x4)+f(x3)$$\n",
    " \n",
    "Lo cual es un sistema de tres ecuaciones lineales con tres incognitas"
   ]
  },
  {
   "cell_type": "markdown",
   "metadata": {},
   "source": [
    "## Ejercicio 3## (condiciones a la frontera de Neumann). \n",
    "\n",
    "Hacer lo mismo para condiciones de Neumann, es decir, fijando en los extremos el valor de la primera derivada de la función. Para esto utilice la derivada hacia adeltante en las orillas, es decir, si $f'(0)=a$ y $f'(1)=b$, entonces $(f_1-f_0)/h=a$, etc. No olvide que debe resultar un sistema de ecuación cuya dimensión sea el número de incognitas."
   ]
  },
  {
   "cell_type": "markdown",
   "metadata": {},
   "source": [
    "A partir de lo obtenido en el ejercicio anterior:\n",
    "\n",
    "$$f(x1)-2f(x2)+f(x3)=0$$\n",
    "$$f(x2)-2f(x3)+f(x4)=0$$\n",
    "$$f(x3)-2f(x4)+f(x5)=0$$\n",
    "\n",
    "Entonces, ahora se sutituye la derivada en vez de los puntos como tal\n",
    "\n",
    "$$f'(x_{1}) = f'(0) = a $$\n",
    "Luego $$\n",
    "\\frac{f(x_{2}) - f(x_{1})}{\\frac{1}{5}} = a$$ \n",
    "\n",
    "Entonces: $$\n",
    "f(x_{1}) =f(x_{2}) - \\frac{a}{5}$$\n",
    "\n",
    "Lo mismo para la otra derivada. Entonces \n",
    "\n",
    "$$f'(x_{5})= f'(1) = b$$\n",
    "\n",
    "$$\\frac{f(x_{5}) - f(x_{4})}{\\frac{1}{5}} =b$$\n",
    "\n",
    "Finalmente, entonces:\n",
    "\n",
    "$$f(x5)= \\frac{b}{5}-f(x4)$$\n",
    "\n",
    "A diferencia del ejercicio anterior se llega a un sistema de 5 ecuaciones con 5 incógnitas."
   ]
  },
  {
   "cell_type": "markdown",
   "metadata": {},
   "source": [
    "## Ejercicio4## (indexación).\n",
    "\n",
    "Julia es más eficiente si se utiliza un único índice para acceder a los elementos de una matriz, además que puede simplificar algunos problemas. Escribe una función $\\phi$ que traduzca un par de índices $i,j$ a un único índice $k$, es decir: $$\\phi: (i,j) \\mapsto k.$$ También encuentren $\\phi^{-1}$. Note que $\\phi$ deberá depender de las dimensiones del arreglo, por lo menos de una de ellas."
   ]
  },
  {
   "cell_type": "code",
   "execution_count": 9,
   "metadata": {},
   "outputs": [
    {
     "name": "stderr",
     "output_type": "stream",
     "text": [
      "WARNING: Method definition indice(Any, Any, Any) in module Main at In[5]:2 overwritten at In[9]:2.\n"
     ]
    },
    {
     "data": {
      "text/plain": [
       "indice (generic function with 1 method)"
      ]
     },
     "execution_count": 9,
     "metadata": {},
     "output_type": "execute_result"
    }
   ],
   "source": [
    "function indice(i,j,columnas)  #Función para traducción de indices\n",
    "    return (i-1)*columnas + j\n",
    "    end"
   ]
  },
  {
   "cell_type": "code",
   "execution_count": 10,
   "metadata": {},
   "outputs": [
    {
     "name": "stdout",
     "output_type": "stream",
     "text": [
      "i = 1 j = 1 van al indice = 1\n",
      "i = 1 j = 2 van al indice = 2\n",
      "i = 1 j = 3 van al indice = 3\n",
      "i = 1 j = 4 van al indice = 4\n",
      "i = 2 j = 1 van al indice = 5\n",
      "i = 2 j = 2 van al indice = 6\n",
      "i = 2 j = 3 van al indice = 7\n",
      "i = 2 j = 4 van al indice = 8\n"
     ]
    }
   ],
   "source": [
    "M = [1 2 3 4 ; 4 3 2 1]  #Prueba del ejercicio\n",
    "A = size(M,1)\n",
    "B = size(M,2)\n",
    "\n",
    "for i in 1:A\n",
    "    for j in 1:B\n",
    "    println(\"i = \",i ,\" j = \", j, \" van al indice = \",indice(i,j,B))    \n",
    "    end\n",
    "end"
   ]
  },
  {
   "cell_type": "code",
   "execution_count": 11,
   "metadata": {},
   "outputs": [
    {
     "data": {
      "text/plain": [
       "indice_inverso (generic function with 1 method)"
      ]
     },
     "execution_count": 11,
     "metadata": {},
     "output_type": "execute_result"
    }
   ],
   "source": [
    "#Ahora para la función inversa\n",
    "\n",
    "function indice_inverso(columnas,indice)\n",
    "    if(indice%columnas!=0)\n",
    "        j = indice%columnas\n",
    "    else\n",
    "        j = columnas\n",
    "    end\n",
    "    i = (indice-j+columnas)/columnas\n",
    "    return[i,j]\n",
    "    end"
   ]
  },
  {
   "cell_type": "code",
   "execution_count": 14,
   "metadata": {},
   "outputs": [
    {
     "name": "stdout",
     "output_type": "stream",
     "text": [
      "k = 1 donde i va hacia = 1.0 y j va hacia = 1.0\n",
      "k = 2 donde i va hacia = 1.0 y j va hacia = 2.0\n",
      "k = 3 donde i va hacia = 1.0 y j va hacia = 3.0\n",
      "k = 4 donde i va hacia = 1.0 y j va hacia = 4.0\n",
      "k = 5 donde i va hacia = 2.0 y j va hacia = 1.0\n",
      "k = 6 donde i va hacia = 2.0 y j va hacia = 2.0\n",
      "k = 7 donde i va hacia = 2.0 y j va hacia = 3.0\n",
      "k = 8 donde i va hacia = 2.0 y j va hacia = 4.0\n"
     ]
    }
   ],
   "source": [
    "I= [1 2 3 4 5 6 7 8 ]\n",
    "\n",
    "for indices in I\n",
    "    inverse = indice_inverso(B,indices)\n",
    "    println(\"k = \", indices , \" donde i va hacia = \",inverse[1], \" y j va hacia = \", inverse[2]) \n",
    "end"
   ]
  },
  {
   "cell_type": "code",
   "execution_count": null,
   "metadata": {},
   "outputs": [],
   "source": []
  },
  {
   "cell_type": "code",
   "execution_count": null,
   "metadata": {},
   "outputs": [],
   "source": []
  }
 ],
 "metadata": {
  "kernelspec": {
   "display_name": "Julia 0.5.2",
   "language": "julia",
   "name": "julia-0.5"
  },
  "language_info": {
   "file_extension": ".jl",
   "mimetype": "application/julia",
   "name": "julia",
   "version": "0.5.2"
  }
 },
 "nbformat": 4,
 "nbformat_minor": 2
}
