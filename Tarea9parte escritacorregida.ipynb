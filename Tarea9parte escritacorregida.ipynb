{
 "cells": [
  {
   "cell_type": "markdown",
   "metadata": {},
   "source": [
    "Ejercicio 3\n",
    "\n",
    "Teniendo en mente la serie de Taylor para $f(x+h)$ ¿existe alguna forma de mejorar esta definición? Comenta.\n",
    "Tip: ¿Que pasa con los términos pares de la serie cuando la calculamos para $f(x-h)$?, ¿Como podemos despejar la derivada exacta de $f$ combinando ambas series?\n",
    "\n",
    "Sea la serie de Taylor\n",
    "$f(x-h)$:\n",
    "$$ f'(x-h)=f(x)-\\frac{df(x)}{dx}h+\\frac{d^2f(x)}{dx^2}\\frac{h^2}{2!}-... $$\n",
    "\n",
    "Para mejorar el valor de la derivada se debe disminuir el valor del error y así el error será de orden $h^2$ en adelante.\n",
    "\n",
    "Restando las series de Taylor de $f(x+h)$ y $f(x-h)$\n",
    "\n",
    "$$f(x+h)-f(x-h)=2(\\frac{df(x)}{dx}h+\\frac{d^3f(x)}{dx^3}\\frac{h^3}{3!}+O(h^5)+...)$$\n",
    "\n",
    "Se obtiene que:\n",
    "\n",
    "$$\\frac{f(x+h)-f(x-h)}{2h}=\\frac{df(x)}{dx}+\\frac{d^3f(x)}{dx^3}\\frac{h^2}{3!}+...$$\n",
    "\n",
    "Por lo tanto el error que obtendrémos con esta nueva aproximación será de orden $h^2$ \n",
    "\n",
    "$$\\frac{f(x+h)-f(x-h)}{2h}-\\frac{df(x)}{dx}=O(h^2)$$\n"
   ]
  },
  {
   "cell_type": "markdown",
   "metadata": {},
   "source": [
    "Ejercicio 5\n",
    "\n",
    "Demuestre que $\\Delta_h$ es un operador lineal y que podemos \"factorizar\" la función a la derecha del operador. Hecho esto podemos quitar de ambos lados la función $f$ para obtener lo siguiente: $$\\Delta_h=\\sum_{n=1}^{\\infty} \\frac{1}{n!}h^n\\left.\\frac{d^n}{d\\xi^n}\\right|_{\\substack{ \\xi=x }}$$"
   ]
  },
  {
   "cell_type": "markdown",
   "metadata": {},
   "source": [
    "Un operador lineal cumple con dos propiedades, la aditiva y de homogeneidad. Entonces, sean dos funciones $f$ y $g$ y $\\alpha$ es un escalar. Tenemos:\n",
    "\n",
    "$$\\Delta_{h}(\\alpha f +g) = \\sum_{n = 1}^{\\infty} \\frac{h^n}{n!} \\frac{d^n(\\alpha f +g)}{dx^n}$$\n",
    "\n",
    "$$\\Delta_{h} (\\alpha f +g) = \\alpha \\Delta_{h}(f) +\\Delta_{h}(g)$$\n",
    "\n",
    "Sea $L=\\frac{d}{dx}$\n",
    "\n",
    "Para la primera propiedad se usa definicion de derivada ya que\n",
    "\n",
    "$$\\begin{align}\n",
    "(f+g)'(x);= \\lim_{h\\to0}\\frac{(f+g)(x+h)-(f+g)(x)}{h}\\\\\n",
    "=\\lim_{h\\to0}\\frac{f(x+h)-f(x)}{h}+\\frac{g(x+h)-g(x)}{h}\\\\\n",
    "=f'(x)+g'(x)\\\\\n",
    "\\end{align}$$\n",
    "\n",
    "usando regla de la cadena se prueba la segunda propiedad.\n",
    "\n",
    "$$\\frac{d(cf)}{dx}=\\frac{fdc}{dx}+\\frac{cdf}{dx}$$\n",
    "\n",
    "como la derivada de una constante es 0, entonces.\n",
    "\n",
    "$$\\frac{d(cf)}{dx}=c\\frac{df}{dx}$$\n",
    "\n",
    "Al cumplir ambas propiedades la derivada es lineal y a su vez si se podrá factorizar el operador."
   ]
  },
  {
   "cell_type": "markdown",
   "metadata": {},
   "source": [
    "Ejercicio 6\n",
    "\n",
    "Demostrar que dado el operador derivada $\\Delta_h=\\sum_{n=1}^{\\infty} \\frac{1}{n!}h^n\\left.\\frac{d^n}{d\\xi^n}\\right|_{\\substack{ \\xi=x }}$ si escribimos este como una funcion evaluada en $\\left. h\\frac{d}{d_\\xi}\\right|_{\\substack{ \\xi=x }}$ es decir $$\\Delta_h=\\phi\\left(h\\left.\\frac{d}{d\\xi}\\right|_{\\substack{ \\xi=x }}\\right)$$.\n",
    "entonces $\\phi(x)=e^x-1$"
   ]
  },
  {
   "cell_type": "markdown",
   "metadata": {},
   "source": [
    "\n",
    "$$\\begin{align}\n",
    "\\sum_{n=1}^{\\infty}\\frac{1}{n!}h^n\\frac{d^n}{d\\xi^n}_{\\xi=x}=\\sum_{n=1}^{\\infty} \\frac{1}{n!}h^n\\frac{d^n}{d\\xi^n}_{\\xi=x }+0\\\\\n",
    "=\\sum_{n=1}^{\\infty} \\frac{1}{n!}h^n\\frac{d^n}{d\\xi^n}_{\\xi=x }+1-1\\\\\n",
    "=\\sum_{n=0}^{\\infty} \\frac{1}{n!}h^n\\frac{d^n}{d\\xi^n}_{\\xi=x }-1\\\\\n",
    "=e^{h\\frac{d}{d\\xi}_{x=\\xi}}-1\n",
    "\\end{align}$$\n",
    "Sumando un 0 en la forma de 1-1, se llega a que la función $\\phi(x)$ es $e^x-1$."
   ]
  },
  {
   "cell_type": "code",
   "execution_count": null,
   "metadata": {},
   "outputs": [],
   "source": []
  }
 ],
 "metadata": {
  "kernelspec": {
   "display_name": "Julia 0.5.2",
   "language": "julia",
   "name": "julia-0.5"
  },
  "language_info": {
   "file_extension": ".jl",
   "mimetype": "application/julia",
   "name": "julia",
   "version": "0.5.2"
  }
 },
 "nbformat": 4,
 "nbformat_minor": 2
}
